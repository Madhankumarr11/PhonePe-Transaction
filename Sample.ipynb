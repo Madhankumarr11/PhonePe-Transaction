{
 "cells": [
  {
   "cell_type": "code",
   "execution_count": 2,
   "id": "0be0f4a9",
   "metadata": {},
   "outputs": [
    {
     "name": "stdout",
     "output_type": "stream",
     "text": [
      "Requirement already satisfied: nbformat in d:\\srmk\\guvi\\phonepe-transaction\\.venv\\lib\\site-packages (5.10.4)\n",
      "Requirement already satisfied: fastjsonschema>=2.15 in d:\\srmk\\guvi\\phonepe-transaction\\.venv\\lib\\site-packages (from nbformat) (2.21.1)\n",
      "Requirement already satisfied: jsonschema>=2.6 in d:\\srmk\\guvi\\phonepe-transaction\\.venv\\lib\\site-packages (from nbformat) (4.24.0)\n",
      "Requirement already satisfied: jupyter-core!=5.0.*,>=4.12 in d:\\srmk\\guvi\\phonepe-transaction\\.venv\\lib\\site-packages (from nbformat) (5.8.1)\n",
      "Requirement already satisfied: traitlets>=5.1 in d:\\srmk\\guvi\\phonepe-transaction\\.venv\\lib\\site-packages (from nbformat) (5.14.3)\n",
      "Requirement already satisfied: attrs>=22.2.0 in d:\\srmk\\guvi\\phonepe-transaction\\.venv\\lib\\site-packages (from jsonschema>=2.6->nbformat) (25.3.0)\n",
      "Requirement already satisfied: jsonschema-specifications>=2023.03.6 in d:\\srmk\\guvi\\phonepe-transaction\\.venv\\lib\\site-packages (from jsonschema>=2.6->nbformat) (2025.4.1)\n",
      "Requirement already satisfied: referencing>=0.28.4 in d:\\srmk\\guvi\\phonepe-transaction\\.venv\\lib\\site-packages (from jsonschema>=2.6->nbformat) (0.36.2)\n",
      "Requirement already satisfied: rpds-py>=0.7.1 in d:\\srmk\\guvi\\phonepe-transaction\\.venv\\lib\\site-packages (from jsonschema>=2.6->nbformat) (0.25.1)\n",
      "Requirement already satisfied: platformdirs>=2.5 in d:\\srmk\\guvi\\phonepe-transaction\\.venv\\lib\\site-packages (from jupyter-core!=5.0.*,>=4.12->nbformat) (4.3.8)\n",
      "Requirement already satisfied: pywin32>=300 in d:\\srmk\\guvi\\phonepe-transaction\\.venv\\lib\\site-packages (from jupyter-core!=5.0.*,>=4.12->nbformat) (310)\n"
     ]
    }
   ],
   "source": [
    "!pip install nbformat --upgrade"
   ]
  },
  {
   "cell_type": "code",
   "execution_count": 1,
   "id": "de9de2fc",
   "metadata": {},
   "outputs": [
    {
     "name": "stderr",
     "output_type": "stream",
     "text": [
      "2025-07-31 19:54:59.095 WARNING streamlit.runtime.scriptrunner_utils.script_run_context: Thread 'MainThread': missing ScriptRunContext! This warning can be ignored when running in bare mode.\n"
     ]
    }
   ],
   "source": [
    "import os\n",
    "import json\n",
    "import pandas as pd\n",
    "import psycopg2\n",
    "import streamlit as st\n",
    "from streamlit_option_menu import option_menu\n",
    "import matplotlib.pyplot as plt\n",
    "import plotly.express as px\n",
    "from psycopg2.extensions import ISOLATION_LEVEL_AUTOCOMMIT\n",
    "import requests\n",
    "\n",
    "import os\n",
    "import json\n",
    "import pandas as pd\n",
    "import psycopg2\n",
    "from psycopg2.extensions import ISOLATION_LEVEL_AUTOCOMMIT"
   ]
  },
  {
   "cell_type": "code",
   "execution_count": 2,
   "id": "29456768",
   "metadata": {},
   "outputs": [],
   "source": [
    "connect = psycopg2.connect(\n",
    "     host = \"localhost\",\n",
    "     user = 'postgres',\n",
    "     port = '5432',\n",
    "     password = '01234',\n",
    "     database = 'phonepy_transaction'\n",
    ")\n",
    "\n",
    "connect.set_isolation_level (ISOLATION_LEVEL_AUTOCOMMIT)\n",
    "\n",
    "cursor = connect.cursor()\n",
    "\n",
    "#Agg_insurance\n",
    "\n",
    "cursor.execute (\"select * from agg_insurance\")\n",
    "connect.commit()\n",
    "tabel1 = cursor.fetchall()\n",
    "\n",
    "Agg_insurance = pd.DataFrame(tabel1, columns=('State', 'Year', 'Quarter', 'Transaction_Name', 'Transaction_count', 'Transaction_amount'))\n",
    "\n",
    "\n",
    "# Agg_transaction\n",
    "\n",
    "cursor.execute (\"select * from agg_transaction\")\n",
    "connect.commit()\n",
    "tabel2 = cursor.fetchall()\n",
    "\n",
    "Agg_Transaction = pd.DataFrame(tabel2, columns=('State', 'Year', 'Quarter', 'Transaction_type', 'Transaction_count', 'Transaction_amount'))\n",
    "\n",
    "\n",
    "# Agg_User\n",
    "\n",
    "cursor.execute (\"select * from agg_user\")\n",
    "connect.commit()\n",
    "tabel3 = cursor.fetchall()\n",
    "\n",
    "Agg_User = pd.DataFrame(tabel3, columns=('State', 'Year', 'Quarter', 'Brand', 'Transaction_count', 'Percentage'))\n",
    "\n",
    "\n",
    "# Map_insurance\n",
    "\n",
    "cursor.execute (\"select * from map_insurance\")\n",
    "connect.commit()\n",
    "tabel4 = cursor.fetchall()\n",
    "\n",
    "Map_insurance = pd.DataFrame(tabel4, columns=('State', 'Year', 'Quarter', 'District', 'Transaction_count', 'Transaction_amount'))\n",
    "\n",
    "\n",
    "# Map_transaction\n",
    "\n",
    "cursor.execute (\"select * from map_transaction\")\n",
    "connect.commit()\n",
    "tabel5 = cursor.fetchall()\n",
    "\n",
    "Map_Transaction = pd.DataFrame(tabel5, columns=('State', 'Year', 'Quarter', 'District', 'Transaction_count', 'Transaction_amount'))\n",
    "\n",
    "\n",
    "# Map_User\n",
    "\n",
    "cursor.execute (\"select * from map_user\")\n",
    "connect.commit()\n",
    "tabel6 = cursor.fetchall()\n",
    "\n",
    "Map_User = pd.DataFrame(tabel6, columns=('State', 'Year', 'Quarter', 'District', 'RegisteredUsers', 'AppOpens'))\n",
    "\n",
    "\n",
    "# Top_insurance\n",
    "\n",
    "cursor.execute (\"select * from top_insurance\")\n",
    "connect.commit()\n",
    "tabel7 = cursor.fetchall()\n",
    "\n",
    "Top_insurance = pd.DataFrame(tabel7, columns=('State', 'Year', 'Quarter', 'Pincode', 'Transaction_count', 'Transaction_amount'))\n",
    "\n",
    "\n",
    "#Top_Transaction\n",
    "\n",
    "cursor.execute('select * from top_transaction')\n",
    "connect.commit()\n",
    "tabel8 = cursor.fetchall()\n",
    "\n",
    "Top_Transaction = pd.DataFrame(tabel8, columns=('State', 'Year', 'Quarter', 'Pincode', 'Transaction_count', 'Transaction_amount'))\n",
    "\n",
    "\n",
    "#Top_User\n",
    "\n",
    "cursor.execute('select * from top_user')\n",
    "connect.commit()\n",
    "tabel9 = cursor.fetchall()\n",
    "\n",
    "Top_User = pd.DataFrame(tabel9, columns=('State', 'Year', 'Quarter', 'Pincode', 'RegisteredUsers'))"
   ]
  },
  {
   "cell_type": "code",
   "execution_count": 3,
   "id": "df56baa8",
   "metadata": {},
   "outputs": [],
   "source": [
    "# Transaction_Year_Based\n",
    "\n",
    "def Transaction_amount_count_Y(df, year):\n",
    "    #(Boolean Series)\n",
    "    tacy = df[df['Quarter'] == year]\n",
    "    tacy.reset_index(drop = True, inplace= True)\n",
    "\n",
    "    tacyg = tacy.groupby('State')[['Transaction_count', 'Transaction_amount']].sum()\n",
    "    tacyg.reset_index(inplace=True)\n",
    "\n",
    "    fig_amount = px.bar(tacyg, x='State', y='Transaction_amount', title =f'{year} Transaction Amount', \n",
    "                         color_discrete_sequence= px.colors.sequential.Aggrnyl, height=650, width=600)\n",
    "    fig_amount.show()\n",
    "\n",
    "    fig_count = px.bar(tacyg,x = 'State', y='Transaction_count', title =f'{year} Transaction Count',\n",
    "                       color_discrete_sequence= px.colors.sequential.Aggrnyl, height=650, width=600)\n",
    "    fig_count.show()\n",
    "\n",
    "    url = \"https://gist.githubusercontent.com/jbrobst/56c13bbbf9d97d187fea01ca62ea5112/raw/e388c4cae20aa53cb5090210a42ebb9b765c0a36/india_states.geojson\"\n",
    "    response = requests.get(url)\n",
    "\n",
    "    data1 = json.loads(response.content)\n",
    "\n",
    "    states_name = []\n",
    "\n",
    "    for feature in data1[\"features\"]:\n",
    "        print(feature['properties'])\n",
    "        states_name.append(feature['properties']['ST_NM'])\n",
    "\n",
    "    states_name.sort()\n",
    "\n",
    "    fig_india_1 = px.choropleth(tacyg, geojson=data1, locations='State', featureidkey= 'properties.ST_NM',  \n",
    "                                color= 'Transaction_amount', color_continuous_scale= 'Rainbow', \n",
    "                                range_color= (tacyg ['Transaction_amount'].min(), tacyg ['Transaction_amount'].max()), \n",
    "                                hover_name= 'State', title= f\"{year} TRANSACTION AMOUNT\",  fitbounds=\"locations\",\n",
    "                                height=600, width=600 )\n",
    "    \n",
    "    fig_india_1.update_geos(visible= False)\n",
    "    # st.plotly_chart(fig_india_1)\n",
    "    fig_india_1.show()\n",
    "    \n",
    "    fig_india_2 = px.choropleth(tacyg, geojson=data1, locations='State', featureidkey= 'properties.ST_NM',  \n",
    "                                color= 'Transaction_count', color_continuous_scale= 'Rainbow', \n",
    "                                range_color= (tacyg ['Transaction_count'].min(), tacyg ['Transaction_count'].max()), \n",
    "                                hover_name= 'State', title= f\"{year} TRANSACTION COUNT\",  fitbounds=\"locations\",\n",
    "                                height=600, width=600 )\n",
    "    \n",
    "    fig_india_2.update_geos(visible= False)\n",
    "    # st.plotly_chart(fig_india_2)\n",
    "    fig_india_2.show()\n",
    "\n",
    "    return tacy"
   ]
  },
  {
   "cell_type": "code",
   "execution_count": 4,
   "id": "7fa09c74",
   "metadata": {},
   "outputs": [],
   "source": [
    "#Transaction_Quarter_Based\n",
    "\n",
    "def Transaction_amount_count_Y_Q(df, quarter):\n",
    "    #(Boolean Series)\n",
    "    tacy = df[df['Quarter'] == quarter]\n",
    "    tacy.reset_index(drop = True, inplace= True)\n",
    "\n",
    "    tacyg = tacy.groupby('State')[['Transaction_count', 'Transaction_amount']].sum()\n",
    "    tacyg.reset_index(inplace=True)\n",
    "\n",
    "    fig_amount = px.bar(tacyg, x='State', y='Transaction_amount', title =f\"{tacy['Year'].min()} YEAR {quarter} QUARTER Transaction Amount\", \n",
    "                         color_discrete_sequence= px.colors.sequential.Aggrnyl, height=650, width=600)\n",
    "    fig_amount.show()\n",
    "\n",
    "    fig_count = px.bar(tacyg,x = 'State', y='Transaction_count', title =f\"{tacy['Year'].min()} YEAR {quarter} QUARTER Transaction Count\",\n",
    "                       color_discrete_sequence= px.colors.sequential.Aggrnyl, height=650, width=600)\n",
    "    fig_count.show()\n",
    "\n",
    "    url = \"https://gist.githubusercontent.com/jbrobst/56c13bbbf9d97d187fea01ca62ea5112/raw/e388c4cae20aa53cb5090210a42ebb9b765c0a36/india_states.geojson\"\n",
    "    response = requests.get(url)\n",
    "\n",
    "    data1 = json.loads(response.content)\n",
    "\n",
    "    states_name = []\n",
    "\n",
    "    for feature in data1[\"features\"]:\n",
    "        print(feature['properties'])\n",
    "        states_name.append(feature['properties']['ST_NM'])\n",
    "\n",
    "    states_name.sort()\n",
    "\n",
    "    fig_india_1 = px.choropleth(tacyg, geojson=data1, locations='State', featureidkey= 'properties.ST_NM',  \n",
    "                                color= 'Transaction_amount', color_continuous_scale= 'Rainbow', \n",
    "                                range_color= (tacyg ['Transaction_amount'].min(), tacyg ['Transaction_amount'].max()), \n",
    "                                hover_name= 'State', title= f\"{tacy['Year'].min()} YEAR {quarter} QUARTER TRANSACTION AMOUNT\",  fitbounds=\"locations\",\n",
    "                                height=600, width=600 )\n",
    "    \n",
    "    fig_india_1.update_geos(visible= False)\n",
    "    # st.plotly_chart(fig_india_1)\n",
    "    fig_india_1.show()\n",
    "    \n",
    "    fig_india_2 = px.choropleth(tacyg, geojson=data1, locations='State', featureidkey= 'properties.ST_NM',  \n",
    "                                color= 'Transaction_count', color_continuous_scale= 'Rainbow', \n",
    "                                range_color= (tacyg ['Transaction_count'].min(), tacyg ['Transaction_count'].max()), \n",
    "                                hover_name= 'State', title= f\"{tacy['Year'].min()} YEAR {quarter} QUARTER TRANSACTION COUNT\",  fitbounds=\"locations\",\n",
    "                                height=600, width=600 )\n",
    "    \n",
    "    fig_india_2.update_geos(visible= False)\n",
    "    # st.plotly_chart(fig_india_2)\n",
    "    fig_india_2.show()\n",
    "\n",
    "    return tacy\n"
   ]
  },
  {
   "cell_type": "code",
   "execution_count": 5,
   "id": "2282d767",
   "metadata": {},
   "outputs": [],
   "source": [
    "#Transaction_Type\n",
    "\n",
    "def Agg_trans_Transaction_type(df,state):\n",
    "\n",
    "    tacy = df[df['State'] == state]\n",
    "    tacy.reset_index(drop = True, inplace= True)\n",
    "\n",
    "    tacyg = tacy.groupby('Transaction_type')[['Transaction_count', 'Transaction_amount']].sum()\n",
    "    tacyg.reset_index(inplace=True)\n",
    "\n",
    "\n",
    "    fig_pie_1 = px.pie(data_frame= tacyg, names= \"Transaction_type\", values= \"Transaction_amount\", \n",
    "                   width= 600, title= f\"{state.upper()} TRANSATION_AMOUNT\", hole= 0.5)\n",
    "    fig_pie_1.show()\n",
    "\n",
    "    fig_pie_2 = px.pie(data_frame= tacyg, names= \"Transaction_type\", values= \"Transaction_count\", \n",
    "                   width= 600, title= f\"{state.upper()} TRANSATION_COUNT\", hole= 0.5)\n",
    "    fig_pie_2.show()"
   ]
  },
  {
   "cell_type": "code",
   "execution_count": 6,
   "id": "c5a6544c",
   "metadata": {},
   "outputs": [],
   "source": [
    "# Aggregated_User_analysis_1\n",
    "\n",
    "def Agg_User_plot_1(df, year):\n",
    "    aguy = df[df[\"Year\"] == year]\n",
    "    aguy.reset_index(drop = True, inplace= True)\n",
    "\n",
    "    aguyg = pd.DataFrame (aguy.groupby(\"Brand\")[\"Transaction_count\"].sum())\n",
    "    aguyg.reset_index(inplace= True)\n",
    "\n",
    "\n",
    "    fig_bar_1 = px.bar(aguyg, x= \"Brand\", y =\"Transaction_count\", title= f\"{year} BRAND and TRANSACTION_COUNT\",\n",
    "                    width=1000, color_discrete_sequence= px.colors.sequential.haline_r, hover_name= \"Brand\")\n",
    "    fig_bar_1.show()\n",
    "\n",
    "    return aguy"
   ]
  },
  {
   "cell_type": "code",
   "execution_count": 7,
   "id": "4dfef467",
   "metadata": {},
   "outputs": [],
   "source": [
    "#Aggre_User_Analysis_2\n",
    "\n",
    "def Agg_User_plot_2(df, quarter):\n",
    "\n",
    "    aguyq = df[df[\"Quarter\"] == quarter]\n",
    "    aguyq.reset_index(drop = True, inplace= True)\n",
    "\n",
    "    aguyqg = pd.DataFrame(aguyq.groupby(\"Brand\")[\"Transaction_count\"].sum())\n",
    "    aguyqg.reset_index(inplace=True)\n",
    "\n",
    "    fig_bar_1 = px.bar(aguyqg, x= \"Brand\", y =\"Transaction_count\", title= f\"{quarter} QUARTER BRANDS and TRANSACTION_COUNT\",\n",
    "                        width=1000, color_discrete_sequence= px.colors.sequential.haline_r, hover_name= \"Brand\")\n",
    "    fig_bar_1.show()\n",
    "\n",
    "    return aguyq"
   ]
  },
  {
   "cell_type": "code",
   "execution_count": 8,
   "id": "9a293633",
   "metadata": {},
   "outputs": [],
   "source": [
    "#Aggre_User_Analysis_3\n",
    "\n",
    "def Agg_User_plot_3 (df, state):\n",
    "    auyqs = df[df[\"State\"] == state]\n",
    "    auyqs.reset_index (drop = True, inplace= True)\n",
    "\n",
    "    fig_line_3 = px.line(auyqs, x = \"Brand\", y = \"Transaction_count\", hover_data= \"Percentage\",\n",
    "                        title= f\"{state.upper()} BRAND, TRANSACTION_COUNT, PERENTAGE\", width=1000, markers= 'd')\n",
    "\n",
    "    fig_line_3.show()"
   ]
  },
  {
   "cell_type": "code",
   "execution_count": 9,
   "id": "f6ab6ad2",
   "metadata": {},
   "outputs": [],
   "source": [
    "#Map_Insurance_District\n",
    "\n",
    "def Map_insur_District(df,state):\n",
    "\n",
    "    tacy = df[df['State'] == state]\n",
    "    tacy.reset_index(drop = True, inplace= True)\n",
    "\n",
    "    tacyg = tacy.groupby('District')[['Transaction_count', 'Transaction_amount']].sum()\n",
    "    tacyg.reset_index(inplace=True)\n",
    "\n",
    "    \n",
    "    fig_bar_1 = px.bar(tacyg, x= \"Transaction_amount\", y= \"District\", orientation= \"h\", height=600,\n",
    "                       title= f\"{state.upper()} DISTRICT AND TRANSACTION AMOUNT\", color_discrete_sequence= px.colors.sequential.Mint_r)\n",
    "    fig_bar_1.show()\n",
    "    \n",
    "\n",
    "    fig_bar_2 = px.bar(tacyg, x= \"Transaction_count\", y= \"District\", orientation= \"h\", height=600,\n",
    "                       title= f\"{state.upper()} DISTRICT AND TRANSACTION COUNT\", color_discrete_sequence= px.colors.sequential.Bluered_r)\n",
    "    fig_bar_2.show()\n"
   ]
  },
  {
   "cell_type": "code",
   "execution_count": 10,
   "id": "97e693d4",
   "metadata": {},
   "outputs": [],
   "source": [
    "#Map_User_plot_1\n",
    "\n",
    "def Map_User_plot_1(df, year):\n",
    "    muy = df[df[\"Year\"] == year]\n",
    "    muy.reset_index(drop = True, inplace= True)\n",
    "\n",
    "    muyg = muy.groupby(\"State\") [[\"RegisteredUsers\", \"AppOpens\"]].sum()\n",
    "    muyg.reset_index(inplace=True)\n",
    "\n",
    "\n",
    "    fig_line_1 = px.line(muyg, x=\"State\", y=[\"RegisteredUsers\", \"AppOpens\"], \n",
    "                        color_discrete_map={\"RegisteredUsers\": \"#14129E\", \"AppOpens\":\"#ff7f0e\"},\n",
    "                        title=f\"{year} REGISTERED USERS (vs) APP OPENS\", width=1000, height=800, markers=True) \n",
    "    fig_line_1.show()\n",
    "\n",
    "    return muy"
   ]
  },
  {
   "cell_type": "code",
   "execution_count": 11,
   "id": "80e06206",
   "metadata": {},
   "outputs": [],
   "source": [
    "#Map_User_plot_2\n",
    "\n",
    "def Map_User_plot_2(df, quarter):\n",
    "    muyq = df[df[\"Quarter\"] == quarter]\n",
    "    muyq.reset_index(drop = True, inplace= True)\n",
    "\n",
    "    muyqg = muyq.groupby(\"State\") [[\"RegisteredUsers\", \"AppOpens\"]].sum()\n",
    "    muyqg.reset_index(inplace=True)\n",
    "\n",
    "\n",
    "    fig_line_1 = px.line(muyqg, x=\"State\", y=[\"RegisteredUsers\", \"AppOpens\"], \n",
    "                        color_discrete_map={\"RegisteredUsers\": \"#12229E\", \"AppOpens\":\"#ff7f0e\"},\n",
    "                        title=f\"{df['Year'].min()} YEAR {quarter} QUARTER REGISTERED USERS (vs) APP OPENS\", width=1000, height=800, markers=True) \n",
    "    fig_line_1.show()\n",
    "\n",
    "    return muyq"
   ]
  },
  {
   "cell_type": "code",
   "execution_count": 12,
   "id": "da76d7f1",
   "metadata": {},
   "outputs": [],
   "source": [
    "#Map_user_plot_3\n",
    "\n",
    "def map_user_plot_3(df, state):\n",
    "\n",
    "    muyqs = df[df[\"State\"] == state]\n",
    "    muyqs.reset_index(drop = True, inplace= True)\n",
    "\n",
    "    fig_map_user_bar_1 = px.bar(muyqs, x = \"RegisteredUsers\", y = \"District\", orientation=\"h\", \n",
    "                                title= \"REGISTERED USERS\", height= 800, color_discrete_sequence= px.colors.sequential.Rainbow_r)\n",
    "\n",
    "    fig_map_user_bar_1.show()\n",
    "\n",
    "    fig_map_user_bar_2 = px.bar(muyqs, x = \"AppOpens\", y = \"District\", orientation=\"h\", \n",
    "                                title= \"APPOPENS\", height= 800, color_discrete_sequence= px.colors.sequential.Rainbow)\n",
    "\n",
    "    fig_map_user_bar_2.show()"
   ]
  },
  {
   "cell_type": "code",
   "execution_count": 13,
   "id": "5aecdc7b",
   "metadata": {},
   "outputs": [],
   "source": [
    "# Top_Insurance_plot_1\n",
    "\n",
    "def Top_insurance_plot_1(df, state):\n",
    "    \n",
    "    tiy = df[df[\"State\"] == state]\n",
    "    tiy.reset_index(drop = True, inplace= True)\n",
    "\n",
    "    fig_top_insur_bar_1 = px.bar(tiy, x = \"Quarter\", y = \"Transaction_amount\", hover_data=\"Pincode\", #orientation=\"h\",\n",
    "                                    title= \"TRANSACTION AMOUNT\", height= 800, color_discrete_sequence= px.colors.sequential.Darkmint_r)\n",
    "\n",
    "    fig_top_insur_bar_1.show()\n",
    "\n",
    "    fig_top_insur_bar_2 = px.bar(tiy, x = \"Quarter\", y = \"Transaction_amount\", hover_data=\"Pincode\", #orientation=\"h\",\n",
    "                                    title= \"TRANSACTION COUNT\", height= 800, color_discrete_sequence= px.colors.sequential.Agsunset_r)\n",
    "\n",
    "    fig_top_insur_bar_2.show()"
   ]
  },
  {
   "cell_type": "code",
   "execution_count": null,
   "id": "b3f54b2c",
   "metadata": {},
   "outputs": [],
   "source": [
    "#Top_User_plot_1\n",
    "\n",
    "def Top_User_plot_1(df, year):\n",
    "    tuy = df[df[\"Year\"] == year]\n",
    "    tuy.reset_index(drop = True, inplace= True)\n",
    "\n",
    "    tuyg = pd.DataFrame (tuy.groupby([\"State\", \"Quarter\"])[\"RegisteredUsers\"].sum())\n",
    "    tuyg.reset_index(inplace= True)\n",
    "\n",
    "    fig_top_plot_1 = px.bar(tuyg, x= \"State\", y= \"RegisteredUsers\", color= \"Quarter\", width=1000, height=800, \n",
    "                            color_discrete_sequence= px.colors.sequential.Burgyl, hover_name= \"State\",\n",
    "                            title= f\"{year} REGISTERED USER\")\n",
    "    fig_top_plot_1.show()\n",
    "\n",
    "    return tuy"
   ]
  },
  {
   "cell_type": "markdown",
   "id": "261a5abc",
   "metadata": {},
   "source": [
    "## Aggregated_Insurance"
   ]
  },
  {
   "cell_type": "code",
   "execution_count": null,
   "id": "2c714546",
   "metadata": {},
   "outputs": [],
   "source": [
    "tac_Y = Transaction_amount_count_Y(Agg_insurance, 2018)"
   ]
  },
  {
   "cell_type": "code",
   "execution_count": null,
   "id": "91cbc016",
   "metadata": {},
   "outputs": [],
   "source": [
    "Transaction_amount_count_Y_Q(tac_Y, 2)"
   ]
  },
  {
   "cell_type": "markdown",
   "id": "21b4f1e2",
   "metadata": {},
   "source": [
    "## Aggregated_Transaction"
   ]
  },
  {
   "cell_type": "code",
   "execution_count": null,
   "id": "7fc9f2e3",
   "metadata": {},
   "outputs": [],
   "source": [
    "Agg_trans_tac_Y = Transaction_amount_count_Y(Agg_Transaction, 2022)"
   ]
  },
  {
   "cell_type": "code",
   "execution_count": null,
   "id": "aa248672",
   "metadata": {},
   "outputs": [],
   "source": [
    "Agg_trans_Transaction_type(Agg_trans_tac_Y,'Tamil Nadu')"
   ]
  },
  {
   "cell_type": "code",
   "execution_count": null,
   "id": "1c1e30ab",
   "metadata": {},
   "outputs": [],
   "source": [
    "Agg_trans_tac_Y_Q = Transaction_amount_count_Y_Q(Agg_trans_tac_Y, 2)"
   ]
  },
  {
   "cell_type": "code",
   "execution_count": null,
   "id": "acc4f5c9",
   "metadata": {},
   "outputs": [],
   "source": [
    "Agg_trans_Transaction_type(Agg_trans_tac_Y_Q,'Tamil Nadu')"
   ]
  },
  {
   "cell_type": "code",
   "execution_count": 19,
   "id": "5a0a17c4",
   "metadata": {},
   "outputs": [
    {
     "data": {
      "text/plain": [
       "array([], dtype=object)"
      ]
     },
     "execution_count": 19,
     "metadata": {},
     "output_type": "execute_result"
    }
   ],
   "source": [
    "Agg_trans_tac_Y_Q[\"State\"].unique()"
   ]
  },
  {
   "cell_type": "markdown",
   "id": "a7211753",
   "metadata": {},
   "source": [
    "## Aggregated_USER"
   ]
  },
  {
   "cell_type": "code",
   "execution_count": null,
   "id": "c657a262",
   "metadata": {},
   "outputs": [],
   "source": [
    "Agg_User_Y = Agg_User_plot_1(Agg_User, 2018)"
   ]
  },
  {
   "cell_type": "code",
   "execution_count": null,
   "id": "004ed06b",
   "metadata": {},
   "outputs": [],
   "source": [
    "Agg_User_Y_Q = Agg_User_plot_2(Agg_User_Y, 3)"
   ]
  },
  {
   "cell_type": "code",
   "execution_count": null,
   "id": "9f3a2f7f",
   "metadata": {},
   "outputs": [],
   "source": [
    "Agg_User_plot_3(Agg_User_Y_Q, 'Andaman & Nicobar')"
   ]
  },
  {
   "cell_type": "markdown",
   "id": "078a8b87",
   "metadata": {},
   "source": [
    "## Map_Insurance"
   ]
  },
  {
   "cell_type": "code",
   "execution_count": null,
   "id": "933d5c6a",
   "metadata": {},
   "outputs": [],
   "source": [
    "Map_insur_tac_Y = Transaction_amount_count_Y(Map_insurance, 2022)"
   ]
  },
  {
   "cell_type": "code",
   "execution_count": null,
   "id": "a282d851",
   "metadata": {},
   "outputs": [],
   "source": [
    "Map_insur_District(Map_insur_tac_Y, 'Tamil Nadu')"
   ]
  },
  {
   "cell_type": "code",
   "execution_count": null,
   "id": "dda6e5b0",
   "metadata": {},
   "outputs": [],
   "source": [
    "Map_insur_tac_Y_Q = Transaction_amount_count_Y_Q(Map_insur_tac_Y, 2)"
   ]
  },
  {
   "cell_type": "code",
   "execution_count": null,
   "id": "6ad74f0b",
   "metadata": {},
   "outputs": [],
   "source": [
    "Map_insur_District(Map_insur_tac_Y_Q, 'Tamil Nadu')"
   ]
  },
  {
   "cell_type": "markdown",
   "id": "3a6fb0d6",
   "metadata": {},
   "source": [
    "## MAP_Transaction"
   ]
  },
  {
   "cell_type": "code",
   "execution_count": null,
   "id": "78e912ca",
   "metadata": {},
   "outputs": [],
   "source": [
    "Map_trans_tac_Y = Transaction_amount_count_Y(Map_Transaction, 2023)"
   ]
  },
  {
   "cell_type": "code",
   "execution_count": null,
   "id": "738d2500",
   "metadata": {},
   "outputs": [],
   "source": [
    "Map_insur_District(Map_trans_tac_Y, 'Tamil Nadu')"
   ]
  },
  {
   "cell_type": "code",
   "execution_count": null,
   "id": "c7d06700",
   "metadata": {},
   "outputs": [],
   "source": [
    "Map_trans_tac_Y_Q = Transaction_amount_count_Y_Q(Map_trans_tac_Y, 2)"
   ]
  },
  {
   "cell_type": "code",
   "execution_count": null,
   "id": "70f5d3d4",
   "metadata": {},
   "outputs": [],
   "source": [
    "Map_insur_District(Map_trans_tac_Y_Q, 'Tamil Nadu')"
   ]
  },
  {
   "cell_type": "markdown",
   "id": "c37f45bd",
   "metadata": {},
   "source": [
    "## MAP_User"
   ]
  },
  {
   "cell_type": "code",
   "execution_count": null,
   "id": "ddd93617",
   "metadata": {},
   "outputs": [],
   "source": [
    "Map_User_Y = Map_User_plot_1(Map_User, 2020)"
   ]
  },
  {
   "cell_type": "code",
   "execution_count": null,
   "id": "c7613264",
   "metadata": {},
   "outputs": [],
   "source": [
    "Map_User_Y_Q = Map_User_plot_2(Map_User_Y, 2)"
   ]
  },
  {
   "cell_type": "code",
   "execution_count": null,
   "id": "ec630a5b",
   "metadata": {},
   "outputs": [],
   "source": [
    "map_user_plot_3(Map_User_Y_Q, \"Tamil Nadu\")"
   ]
  },
  {
   "cell_type": "markdown",
   "id": "cee28eef",
   "metadata": {},
   "source": [
    "## Top_Insurance"
   ]
  },
  {
   "cell_type": "code",
   "execution_count": null,
   "id": "b3e104a8",
   "metadata": {},
   "outputs": [],
   "source": [
    "Top_insur_tac_Y = Transaction_amount_count_Y(Top_insurance, 2020)"
   ]
  },
  {
   "cell_type": "code",
   "execution_count": null,
   "id": "147861b5",
   "metadata": {},
   "outputs": [],
   "source": [
    "Top_insurance_plot_1(Top_insur_tac_Y, \"West Bengal\")"
   ]
  },
  {
   "cell_type": "code",
   "execution_count": null,
   "id": "5c4db8a5",
   "metadata": {},
   "outputs": [],
   "source": [
    "Top_insur_tac_Y_Q = Transaction_amount_count_Y_Q(Top_insur_tac_Y, 2)"
   ]
  },
  {
   "cell_type": "markdown",
   "id": "35936966",
   "metadata": {},
   "source": [
    "## Top_Transaction"
   ]
  },
  {
   "cell_type": "code",
   "execution_count": null,
   "id": "2c9284f4",
   "metadata": {},
   "outputs": [],
   "source": [
    "Top_trans_tac_Y = Transaction_amount_count_Y(Top_Transaction, 2020)"
   ]
  },
  {
   "cell_type": "code",
   "execution_count": null,
   "id": "f3dc951b",
   "metadata": {},
   "outputs": [],
   "source": [
    "Top_insurance_plot_1(Top_trans_tac_Y, \"West Bengal\")"
   ]
  },
  {
   "cell_type": "code",
   "execution_count": null,
   "id": "c2a78a2b",
   "metadata": {},
   "outputs": [],
   "source": [
    "Top_trans_tac_Y_Q = Transaction_amount_count_Y_Q(Top_trans_tac_Y, 2)"
   ]
  },
  {
   "cell_type": "markdown",
   "id": "77258d36",
   "metadata": {},
   "source": [
    "## Top User"
   ]
  },
  {
   "cell_type": "code",
   "execution_count": null,
   "id": "92356561",
   "metadata": {},
   "outputs": [],
   "source": [
    "Top_User_Y = Top_User_plot_1(Top_User, 2021)"
   ]
  },
  {
   "cell_type": "code",
   "execution_count": null,
   "id": "8c6f472f",
   "metadata": {},
   "outputs": [],
   "source": [
    "Top_User_Y "
   ]
  },
  {
   "cell_type": "code",
   "execution_count": null,
   "id": "67753fe0",
   "metadata": {},
   "outputs": [],
   "source": [
    "#Top_User_plot_1\n",
    "\n",
    "# def Top_User_plot_1(df, year):\n",
    "#     tuy = df[df[\"Year\"] == year]\n",
    "#     tuy.reset_index(drop = True, inplace= True)\n",
    "\n",
    "tuys = Top_User_Y[Top_User_Y [\"State\"]== \"West Bengal\"]\n",
    "tuys.reset_index(drop= True, inplace= True)\n",
    "\n",
    "fig_top_plot_2 = px.bar(tuyg, x= \"Quarter\", y= \"RegisteredUsers\", hover_data= \"Pincode\",  width=1000, height=800, \n",
    "                            color_continuous_scale = px.colors.sequential.Magenta_r, \n",
    "                            title= \"REGISTERED USER AND PINCODE QUARTER DATA\")\n",
    "fig_top_plot_2.show()\n",
    "\n",
    "# return tuy"
   ]
  },
  {
   "cell_type": "code",
   "execution_count": null,
   "id": "9d7297a3",
   "metadata": {},
   "outputs": [],
   "source": [
    "tuys"
   ]
  },
  {
   "cell_type": "code",
   "execution_count": null,
   "id": "751fae45",
   "metadata": {},
   "outputs": [],
   "source": []
  }
 ],
 "metadata": {
  "kernelspec": {
   "display_name": ".venv (3.13.2)",
   "language": "python",
   "name": "python3"
  },
  "language_info": {
   "codemirror_mode": {
    "name": "ipython",
    "version": 3
   },
   "file_extension": ".py",
   "mimetype": "text/x-python",
   "name": "python",
   "nbconvert_exporter": "python",
   "pygments_lexer": "ipython3",
   "version": "3.13.2"
  }
 },
 "nbformat": 4,
 "nbformat_minor": 5
}
