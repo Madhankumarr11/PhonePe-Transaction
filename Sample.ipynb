{
 "cells": [
  {
   "cell_type": "code",
   "execution_count": 2,
   "id": "0be0f4a9",
   "metadata": {},
   "outputs": [
    {
     "name": "stdout",
     "output_type": "stream",
     "text": [
      "Requirement already satisfied: nbformat in d:\\srmk\\guvi\\phonepe-transaction\\.venv\\lib\\site-packages (5.10.4)\n",
      "Requirement already satisfied: fastjsonschema>=2.15 in d:\\srmk\\guvi\\phonepe-transaction\\.venv\\lib\\site-packages (from nbformat) (2.21.1)\n",
      "Requirement already satisfied: jsonschema>=2.6 in d:\\srmk\\guvi\\phonepe-transaction\\.venv\\lib\\site-packages (from nbformat) (4.24.0)\n",
      "Requirement already satisfied: jupyter-core!=5.0.*,>=4.12 in d:\\srmk\\guvi\\phonepe-transaction\\.venv\\lib\\site-packages (from nbformat) (5.8.1)\n",
      "Requirement already satisfied: traitlets>=5.1 in d:\\srmk\\guvi\\phonepe-transaction\\.venv\\lib\\site-packages (from nbformat) (5.14.3)\n",
      "Requirement already satisfied: attrs>=22.2.0 in d:\\srmk\\guvi\\phonepe-transaction\\.venv\\lib\\site-packages (from jsonschema>=2.6->nbformat) (25.3.0)\n",
      "Requirement already satisfied: jsonschema-specifications>=2023.03.6 in d:\\srmk\\guvi\\phonepe-transaction\\.venv\\lib\\site-packages (from jsonschema>=2.6->nbformat) (2025.4.1)\n",
      "Requirement already satisfied: referencing>=0.28.4 in d:\\srmk\\guvi\\phonepe-transaction\\.venv\\lib\\site-packages (from jsonschema>=2.6->nbformat) (0.36.2)\n",
      "Requirement already satisfied: rpds-py>=0.7.1 in d:\\srmk\\guvi\\phonepe-transaction\\.venv\\lib\\site-packages (from jsonschema>=2.6->nbformat) (0.25.1)\n",
      "Requirement already satisfied: platformdirs>=2.5 in d:\\srmk\\guvi\\phonepe-transaction\\.venv\\lib\\site-packages (from jupyter-core!=5.0.*,>=4.12->nbformat) (4.3.8)\n",
      "Requirement already satisfied: pywin32>=300 in d:\\srmk\\guvi\\phonepe-transaction\\.venv\\lib\\site-packages (from jupyter-core!=5.0.*,>=4.12->nbformat) (310)\n"
     ]
    }
   ],
   "source": [
    "!pip install nbformat --upgrade"
   ]
  },
  {
   "cell_type": "code",
   "execution_count": 1,
   "id": "de9de2fc",
   "metadata": {},
   "outputs": [
    {
     "name": "stderr",
     "output_type": "stream",
     "text": [
      "2025-08-16 17:03:01.690 WARNING streamlit.runtime.scriptrunner_utils.script_run_context: Thread 'MainThread': missing ScriptRunContext! This warning can be ignored when running in bare mode.\n"
     ]
    }
   ],
   "source": [
    "import os\n",
    "import json\n",
    "import pandas as pd\n",
    "import psycopg2\n",
    "import streamlit as st\n",
    "from streamlit_option_menu import option_menu\n",
    "import matplotlib.pyplot as plt\n",
    "import plotly.express as px\n",
    "from psycopg2.extensions import ISOLATION_LEVEL_AUTOCOMMIT\n",
    "import requests\n",
    "\n",
    "import os\n",
    "import json\n",
    "import pandas as pd\n",
    "import psycopg2\n",
    "from psycopg2.extensions import ISOLATION_LEVEL_AUTOCOMMIT"
   ]
  },
  {
   "cell_type": "code",
   "execution_count": 2,
   "id": "29456768",
   "metadata": {},
   "outputs": [],
   "source": [
    "connect = psycopg2.connect(\n",
    "     host = \"localhost\",\n",
    "     user = 'postgres',\n",
    "     port = '5432',\n",
    "     password = '01234',\n",
    "     database = 'phonepy_transaction'\n",
    ")\n",
    "\n",
    "connect.set_isolation_level (ISOLATION_LEVEL_AUTOCOMMIT)\n",
    "\n",
    "cursor = connect.cursor()\n",
    "\n",
    "#Agg_insurance\n",
    "\n",
    "cursor.execute (\"select * from agg_insurance\")\n",
    "connect.commit()\n",
    "tabel1 = cursor.fetchall()\n",
    "\n",
    "Agg_insurance = pd.DataFrame(tabel1, columns=('State', 'Year', 'Quarter', 'Transaction_Name', 'Transaction_count', 'Transaction_amount'))\n",
    "\n",
    "\n",
    "# Agg_transaction\n",
    "\n",
    "cursor.execute (\"select * from agg_transaction\")\n",
    "connect.commit()\n",
    "tabel2 = cursor.fetchall()\n",
    "\n",
    "Agg_Transaction = pd.DataFrame(tabel2, columns=('State', 'Year', 'Quarter', 'Transaction_type', 'Transaction_count', 'Transaction_amount'))\n",
    "\n",
    "\n",
    "# Agg_User\n",
    "\n",
    "cursor.execute (\"select * from agg_user\")\n",
    "connect.commit()\n",
    "tabel3 = cursor.fetchall()\n",
    "\n",
    "Agg_User = pd.DataFrame(tabel3, columns=('State', 'Year', 'Quarter', 'Brand', 'Transaction_count', 'Percentage'))\n",
    "\n",
    "\n",
    "# Map_insurance\n",
    "\n",
    "cursor.execute (\"select * from map_insurance\")\n",
    "connect.commit()\n",
    "tabel4 = cursor.fetchall()\n",
    "\n",
    "Map_insurance = pd.DataFrame(tabel4, columns=('State', 'Year', 'Quarter', 'District', 'Transaction_count', 'Transaction_amount'))\n",
    "\n",
    "\n",
    "# Map_transaction\n",
    "\n",
    "cursor.execute (\"select * from map_transaction\")\n",
    "connect.commit()\n",
    "tabel5 = cursor.fetchall()\n",
    "\n",
    "Map_Transaction = pd.DataFrame(tabel5, columns=('State', 'Year', 'Quarter', 'District', 'Transaction_count', 'Transaction_amount'))\n",
    "\n",
    "\n",
    "# Map_User\n",
    "\n",
    "cursor.execute (\"select * from map_user\")\n",
    "connect.commit()\n",
    "tabel6 = cursor.fetchall()\n",
    "\n",
    "Map_User = pd.DataFrame(tabel6, columns=('State', 'Year', 'Quarter', 'District', 'RegisteredUsers', 'AppOpens'))\n",
    "\n",
    "\n",
    "# Top_insurance\n",
    "\n",
    "cursor.execute (\"select * from top_insurance\")\n",
    "connect.commit()\n",
    "tabel7 = cursor.fetchall()\n",
    "\n",
    "Top_insurance = pd.DataFrame(tabel7, columns=('State', 'Year', 'Quarter', 'Pincode', 'Transaction_count', 'Transaction_amount'))\n",
    "\n",
    "\n",
    "#Top_Transaction\n",
    "\n",
    "cursor.execute('select * from top_transaction')\n",
    "connect.commit()\n",
    "tabel8 = cursor.fetchall()\n",
    "\n",
    "Top_Transaction = pd.DataFrame(tabel8, columns=('State', 'Year', 'Quarter', 'Pincode', 'Transaction_count', 'Transaction_amount'))\n",
    "\n",
    "\n",
    "#Top_User\n",
    "\n",
    "cursor.execute('select * from top_user')\n",
    "connect.commit()\n",
    "tabel9 = cursor.fetchall()\n",
    "\n",
    "Top_User = pd.DataFrame(tabel9, columns=('State', 'Year', 'Quarter', 'Pincode', 'RegisteredUsers'))"
   ]
  },
  {
   "cell_type": "code",
   "execution_count": 7,
   "id": "781260aa",
   "metadata": {},
   "outputs": [],
   "source": [
    "# Sql Query\n",
    "\n",
    "def top_chart_transaction_amount(table_name): \n",
    "    \n",
    "    connect = psycopg2.connect(\n",
    "            host = \"localhost\",\n",
    "            user = 'postgres',\n",
    "            port = '5432',\n",
    "            password = '01234',\n",
    "            database = 'phonepy_transaction'\n",
    "    )\n",
    "\n",
    "    connect.set_isolation_level (ISOLATION_LEVEL_AUTOCOMMIT)\n",
    "\n",
    "    cursor = connect.cursor()\n",
    "\n",
    "    # Plot_1\n",
    "\n",
    "    query1 = f'''select state, Sum(transaction_amount) as transaction_amount\n",
    "            from {table_name}\n",
    "            group  by state\n",
    "            order by transaction_amount DESC\n",
    "            LIMIT 10;'''\n",
    "\n",
    "    cursor.execute(query1)\n",
    "    tabel_1 = cursor.fetchall()\n",
    "    connect.commit()\n",
    "\n",
    "    df_1 = pd.DataFrame(tabel_1, columns= (\"state\", \"transaction_amount\"))\n",
    "\n",
    "    fig_amount_1 = px.bar(df_1, x='state', y='transaction_amount', title = 'Transaction Amount', \n",
    "                            color_discrete_sequence= px.colors.sequential.Aggrnyl, height=650, width=600)\n",
    "    fig_amount_1.show()\n",
    "\n",
    "\n",
    "\n",
    "    # Plot_2\n",
    "\n",
    "    query2 = f'''select state, Sum(transaction_amount) as transaction_amount\n",
    "                from {table_name}\n",
    "                group  by state\n",
    "                order by transaction_amount\n",
    "                LIMIT 10;'''\n",
    "\n",
    "    cursor.execute(query2)\n",
    "    tabel_2 = cursor.fetchall()\n",
    "    connect.commit()\n",
    "\n",
    "    df_2 = pd.DataFrame(tabel_2, columns= (\"state\", \"transaction_amount\"))\n",
    "\n",
    "    fig_amount_2 = px.bar(df_2, x='state', y='transaction_amount', title = 'Transaction Amount', \n",
    "                            color_discrete_sequence= px.colors.sequential.Aggrnyl_r, height=650, width=600)\n",
    "    fig_amount_2.show()\n",
    "\n",
    "\n",
    "    # Plot_3\n",
    "\n",
    "    query3 = f'''select state, Avg(transaction_amount) as transaction_amount\n",
    "                from {table_name}\n",
    "                group  by state\n",
    "                order by transaction_amount;'''\n",
    "\n",
    "    cursor.execute(query3)\n",
    "    tabel_3 = cursor.fetchall()\n",
    "    connect.commit()\n",
    "\n",
    "    df_2 = pd.DataFrame(tabel_3, columns= (\"state\", \"transaction_amount\"))\n",
    "\n",
    "    fig_amount_3 = px.bar(df_2, y='state', x='transaction_amount', title = 'Transaction Amount', hover_name= \"state\", orientation= 'h', \n",
    "                            color_discrete_sequence= px.colors.sequential.Bluered_r, height=650, width=600)\n",
    "    fig_amount_3.show()\n",
    "\n"
   ]
  },
  {
   "cell_type": "code",
   "execution_count": 8,
   "id": "786d3b7d",
   "metadata": {},
   "outputs": [],
   "source": [
    "# Sql Query\n",
    "\n",
    "def top_chart_transaction_count(table_name): \n",
    "    \n",
    "    connect = psycopg2.connect(\n",
    "            host = \"localhost\",\n",
    "            user = 'postgres',\n",
    "            port = '5432',\n",
    "            password = '01234',\n",
    "            database = 'phonepy_transaction'\n",
    "    )\n",
    "\n",
    "    connect.set_isolation_level (ISOLATION_LEVEL_AUTOCOMMIT)\n",
    "\n",
    "    cursor = connect.cursor()\n",
    "\n",
    "    # Plot_1\n",
    "\n",
    "    query1 = f'''select state, Sum(transaction_count) as transaction_count\n",
    "            from {table_name}\n",
    "            group  by state\n",
    "            order by transaction_count DESC\n",
    "            LIMIT 10;'''\n",
    "\n",
    "    cursor.execute(query1)\n",
    "    tabel_1 = cursor.fetchall()\n",
    "    connect.commit()\n",
    "\n",
    "    df_1 = pd.DataFrame(tabel_1, columns= (\"state\", \"transaction_count\"))\n",
    "\n",
    "    fig_amount_1 = px.bar(df_1, x='state', y='transaction_count', title = 'TRANSACTION COUNT', \n",
    "                            color_discrete_sequence= px.colors.sequential.Aggrnyl, height=650, width=600)\n",
    "    fig_amount_1.show()\n",
    "\n",
    "\n",
    "\n",
    "    # Plot_2\n",
    "\n",
    "    query2 = f'''select state, Sum(transaction_count) as transaction_count\n",
    "                from {table_name}\n",
    "                group  by state\n",
    "                order by transaction_count\n",
    "                LIMIT 10;'''\n",
    "\n",
    "    cursor.execute(query2)\n",
    "    tabel_2 = cursor.fetchall()\n",
    "    connect.commit()\n",
    "\n",
    "    df_2 = pd.DataFrame(tabel_2, columns= (\"state\", \"transaction_count\"))\n",
    "\n",
    "    fig_amount_2 = px.bar(df_2, x='state', y='transaction_count', title = 'TRANSACTION COUNT', \n",
    "                            color_discrete_sequence= px.colors.sequential.Aggrnyl_r, height=700, width=600)\n",
    "    fig_amount_2.show()\n",
    "\n",
    "\n",
    "    # Plot_3\n",
    "\n",
    "    query3 = f'''select state, Avg(transaction_count) as transaction_count\n",
    "                from {table_name}\n",
    "                group  by state\n",
    "                order by transaction_count;'''\n",
    "\n",
    "    cursor.execute(query3)\n",
    "    tabel_3 = cursor.fetchall()\n",
    "    connect.commit()\n",
    "\n",
    "    df_2 = pd.DataFrame(tabel_3, columns= (\"state\", \"transaction_count\"))\n",
    "\n",
    "    fig_amount_3 = px.bar(df_2, y='state', x='transaction_count', title = 'TRANSACTION COUNT', hover_name= \"state\", orientation= 'h', \n",
    "                            color_discrete_sequence= px.colors.sequential.Bluered_r, height=800, width=1000)\n",
    "    fig_amount_3.show()\n",
    "\n"
   ]
  },
  {
   "cell_type": "code",
   "execution_count": 26,
   "id": "a05d299e",
   "metadata": {},
   "outputs": [],
   "source": [
    "# Sql Query\n",
    "\n",
    "def top_chart_registered_users(table_name, state): \n",
    "    \n",
    "    connect = psycopg2.connect(\n",
    "            host = \"localhost\",\n",
    "            user = 'postgres',\n",
    "            port = '5432',\n",
    "            password = '01234',\n",
    "            database = 'phonepy_transaction'\n",
    "    )\n",
    "\n",
    "    connect.set_isolation_level (ISOLATION_LEVEL_AUTOCOMMIT)\n",
    "\n",
    "    cursor = connect.cursor()\n",
    "\n",
    "    # Plot_1\n",
    "\n",
    "    query1 = f'''select district, sum(registeredusers) as registeredusers\n",
    "                 from {table_name}\n",
    "                 where state = '{state}'\n",
    "                 group by district\n",
    "                 order by registeredusers desc\n",
    "                 limit 10;'''\n",
    "\n",
    "    cursor.execute(query1)\n",
    "    tabel_1 = cursor.fetchall()\n",
    "    connect.commit()\n",
    "\n",
    "    df_1 = pd.DataFrame(tabel_1, columns= (\"district\", \"registeredusers\"))\n",
    "\n",
    "    fig_amount_1 = px.bar(df_1, x='district', y='registeredusers', title = 'TOP 10 REGISTERED USER', \n",
    "                            color_discrete_sequence= px.colors.sequential.Aggrnyl, height=650, width=600)\n",
    "    fig_amount_1.show()\n",
    "\n",
    "\n",
    "\n",
    "    # Plot_2\n",
    "\n",
    "    query2 = f'''select district, sum(registeredusers) as registeredusers\n",
    "                 from {table_name}\n",
    "                 where state = '{state}'\n",
    "                 group by district\n",
    "                 order by registeredusers\n",
    "                 limit 10;'''\n",
    "\n",
    "    cursor.execute(query2)\n",
    "    tabel_2 = cursor.fetchall()\n",
    "    connect.commit()\n",
    "\n",
    "    df_2 = pd.DataFrame(tabel_2, columns= (\"district\", \"registeredusers\"))\n",
    "\n",
    "    fig_amount_2 = px.bar(df_2, x='district', y='registeredusers', title = 'LAST 10 REGISTERED USER', hover_name= \"district\",\n",
    "                            color_discrete_sequence= px.colors.sequential.Aggrnyl_r, height=650, width=600)\n",
    "    fig_amount_2.show()\n",
    "\n",
    "\n",
    "    # Plot_3\n",
    "\n",
    "    query3 = f'''select district, avg(registeredusers) as registeredusers\n",
    "                 from {table_name}\n",
    "                 where state = '{state}'\n",
    "                 group by district\n",
    "                 order by registeredusers;'''\n",
    "\n",
    "    cursor.execute(query3)\n",
    "    tabel_3 = cursor.fetchall()\n",
    "    connect.commit()\n",
    "\n",
    "    df_2 = pd.DataFrame(tabel_3, columns= ('district', 'registeredusers'))\n",
    "\n",
    "    fig_amount_3 = px.bar(df_2, y='district', x='registeredusers', title = 'AVERAGE OF REGISTERED USER', hover_name= \"district\", orientation= 'h', \n",
    "                            color_discrete_sequence= px.colors.sequential.Bluered_r, height=650, width=600)\n",
    "    fig_amount_3.show()\n",
    "\n"
   ]
  },
  {
   "cell_type": "code",
   "execution_count": 27,
   "id": "f7b022ae",
   "metadata": {},
   "outputs": [],
   "source": [
    "# Sql Query\n",
    "\n",
    "def top_chart_appopens(table_name, state): \n",
    "    \n",
    "    connect = psycopg2.connect(\n",
    "            host = \"localhost\",\n",
    "            user = 'postgres',\n",
    "            port = '5432',\n",
    "            password = '01234',\n",
    "            database = 'phonepy_transaction'\n",
    "    )\n",
    "\n",
    "    connect.set_isolation_level (ISOLATION_LEVEL_AUTOCOMMIT)\n",
    "\n",
    "    cursor = connect.cursor()\n",
    "\n",
    "    # Plot_1\n",
    "\n",
    "    query1 = f'''select district, sum(appopens) as appopens\n",
    "                 from {table_name}\n",
    "                 where state = '{state}'\n",
    "                 group by district\n",
    "                 order by appopens desc\n",
    "                 limit 10;'''\n",
    "\n",
    "    cursor.execute(query1)\n",
    "    tabel_1 = cursor.fetchall()\n",
    "    connect.commit()\n",
    "\n",
    "    df_1 = pd.DataFrame(tabel_1, columns= (\"district\", \"appopens\"))\n",
    "\n",
    "    fig_amount_1 = px.bar(df_1, x='district', y='appopens', title = 'TOP 10 APPOPENS', \n",
    "                          color_discrete_sequence= px.colors.sequential.Aggrnyl, height=650, width=600)\n",
    "    fig_amount_1.show()\n",
    "\n",
    "\n",
    "\n",
    "    # Plot_2\n",
    "\n",
    "    query2 = f'''select district, sum(appopens) as appopens\n",
    "                 from {table_name}\n",
    "                 where state = '{state}'\n",
    "                 group by district\n",
    "                 order by appopens\n",
    "                 limit 10;'''\n",
    "\n",
    "    cursor.execute(query2)\n",
    "    tabel_2 = cursor.fetchall()\n",
    "    connect.commit()\n",
    "\n",
    "    df_2 = pd.DataFrame(tabel_2, columns= (\"district\", \"appopens\"))\n",
    "\n",
    "    fig_amount_2 = px.bar(df_2, x='district', y='appopens', title = 'LAST 10 APPOPENS', hover_name= \"district\",\n",
    "                            color_discrete_sequence= px.colors.sequential.Aggrnyl_r, height=650, width=600)\n",
    "    fig_amount_2.show()\n",
    "\n",
    "\n",
    "    # Plot_3\n",
    "\n",
    "    query3 = f'''select district, avg(appopens) as appopens\n",
    "                 from {table_name}\n",
    "                 where state = '{state}'\n",
    "                 group by district\n",
    "                 order by appopens;'''\n",
    "\n",
    "    cursor.execute(query3)\n",
    "    tabel_3 = cursor.fetchall()\n",
    "    connect.commit()\n",
    "\n",
    "    df_2 = pd.DataFrame(tabel_3, columns= ('district', 'appopens'))\n",
    "\n",
    "    fig_amount_3 = px.bar(df_2, y='district', x='appopens', title = 'AVERAGE OF APPOPENS', hover_name= \"district\", orientation= 'h', \n",
    "                            color_discrete_sequence= px.colors.sequential.Bluered_r, height=650, width=600)\n",
    "    fig_amount_3.show()\n",
    "\n"
   ]
  },
  {
   "cell_type": "code",
   "execution_count": 32,
   "id": "0ed81a0a",
   "metadata": {},
   "outputs": [],
   "source": [
    "# Sql Query\n",
    "\n",
    "def top_chart_registered_user(table_name): \n",
    "    \n",
    "    connect = psycopg2.connect(\n",
    "            host = \"localhost\",\n",
    "            user = 'postgres',\n",
    "            port = '5432',\n",
    "            password = '01234',\n",
    "            database = 'phonepy_transaction'\n",
    "    )\n",
    "\n",
    "    connect.set_isolation_level (ISOLATION_LEVEL_AUTOCOMMIT)\n",
    "\n",
    "    cursor = connect.cursor()\n",
    "\n",
    "    # Plot_1\n",
    "\n",
    "    query1 = f'''select state, sum(registeredusers) as registeredusers\n",
    "                 from {table_name}\n",
    "                 group by state \n",
    "                 order by registeredusers desc\n",
    "                 limit 10;'''\n",
    "\n",
    "    cursor.execute(query1)\n",
    "    tabel_1 = cursor.fetchall()\n",
    "    connect.commit()\n",
    "\n",
    "    df_1 = pd.DataFrame(tabel_1, columns= (\"state\", \"registeredusers\"))\n",
    "\n",
    "    fig_amount_1 = px.bar(df_1, x='state', y='registeredusers', title = 'TOP 10 REGISTERED USERS', hover_name= \"state\",\n",
    "                            color_discrete_sequence= px.colors.sequential.Aggrnyl, height=650, width=600)\n",
    "    fig_amount_1.show()\n",
    "\n",
    "\n",
    "\n",
    "    # Plot_2\n",
    "\n",
    "    query2 = f'''select state, sum(registeredusers) as registeredusers\n",
    "                 from {table_name}\n",
    "                 group by state \n",
    "                 order by registeredusers\n",
    "                 limit 10;'''\n",
    "\n",
    "    cursor.execute(query2)\n",
    "    tabel_2 = cursor.fetchall()\n",
    "    connect.commit()\n",
    "\n",
    "    df_2 = pd.DataFrame(tabel_2, columns= (\"state\", \"registeredusers\"))\n",
    "\n",
    "    fig_amount_2 = px.bar(df_2, x='state', y='registeredusers', title = 'LAST 10 REGISTERED USERS', hover_name= \"state\",\n",
    "                            color_discrete_sequence= px.colors.sequential.Aggrnyl_r, height=650, width=600)\n",
    "    fig_amount_2.show()\n",
    "\n",
    "\n",
    "    # Plot_3\n",
    "\n",
    "    query3 = f'''select state, avg(registeredusers) as registeredusers\n",
    "                 from {table_name}\n",
    "                 group by state \n",
    "                 order by registeredusers;'''\n",
    "\n",
    "    cursor.execute(query3)\n",
    "    tabel_3 = cursor.fetchall()\n",
    "    connect.commit()\n",
    "\n",
    "    df_2 = pd.DataFrame(tabel_3, columns= ('state', 'registeredusers'))\n",
    "\n",
    "    fig_amount_3 = px.bar(df_2, y='state', x='registeredusers', title = 'AVERAGE OF REGISTERED USERS', hover_name= \"state\", orientation= 'h', \n",
    "                            color_discrete_sequence= px.colors.sequential.Bluered_r, height=650, width=600)\n",
    "    fig_amount_3.show()\n",
    "\n"
   ]
  },
  {
   "cell_type": "code",
   "execution_count": 33,
   "id": "5a91d34e",
   "metadata": {},
   "outputs": [
    {
     "data": {
      "application/vnd.plotly.v1+json": {
       "config": {
        "plotlyServerURL": "https://plot.ly"
       },
       "data": [
        {
         "hovertemplate": "<b>%{hovertext}</b><br><br>state=%{x}<br>registeredusers=%{y}<extra></extra>",
         "hovertext": [
          "Delhi",
          "Karnataka",
          "Uttar Pradesh",
          "Maharashtra",
          "Haryana",
          "Telangana",
          "Rajasthan",
          "Gujarat",
          "Madhya Pradesh",
          "Bihar"
         ],
         "legendgroup": "",
         "marker": {
          "color": "rgb(36, 86, 104)",
          "pattern": {
           "shape": ""
          }
         },
         "name": "",
         "orientation": "v",
         "showlegend": false,
         "textposition": "auto",
         "type": "bar",
         "x": [
          "Delhi",
          "Karnataka",
          "Uttar Pradesh",
          "Maharashtra",
          "Haryana",
          "Telangana",
          "Rajasthan",
          "Gujarat",
          "Madhya Pradesh",
          "Bihar"
         ],
         "xaxis": "x",
         "y": [
          90746044,
          82876390,
          82366465,
          81567387,
          69650929,
          66723342,
          61524566,
          50451766,
          49549797,
          44488520
         ],
         "yaxis": "y"
        }
       ],
       "layout": {
        "barmode": "relative",
        "height": 650,
        "legend": {
         "tracegroupgap": 0
        },
        "template": {
         "data": {
          "candlestick": [
           {
            "decreasing": {
             "line": {
              "color": "#000033"
             }
            },
            "increasing": {
             "line": {
              "color": "#000032"
             }
            },
            "type": "candlestick"
           }
          ],
          "contour": [
           {
            "colorscale": [
             [
              0,
              "#000011"
             ],
             [
              0.1111111111111111,
              "#000012"
             ],
             [
              0.2222222222222222,
              "#000013"
             ],
             [
              0.3333333333333333,
              "#000014"
             ],
             [
              0.4444444444444444,
              "#000015"
             ],
             [
              0.5555555555555556,
              "#000016"
             ],
             [
              0.6666666666666666,
              "#000017"
             ],
             [
              0.7777777777777778,
              "#000018"
             ],
             [
              0.8888888888888888,
              "#000019"
             ],
             [
              1,
              "#000020"
             ]
            ],
            "type": "contour"
           }
          ],
          "contourcarpet": [
           {
            "colorscale": [
             [
              0,
              "#000011"
             ],
             [
              0.1111111111111111,
              "#000012"
             ],
             [
              0.2222222222222222,
              "#000013"
             ],
             [
              0.3333333333333333,
              "#000014"
             ],
             [
              0.4444444444444444,
              "#000015"
             ],
             [
              0.5555555555555556,
              "#000016"
             ],
             [
              0.6666666666666666,
              "#000017"
             ],
             [
              0.7777777777777778,
              "#000018"
             ],
             [
              0.8888888888888888,
              "#000019"
             ],
             [
              1,
              "#000020"
             ]
            ],
            "type": "contourcarpet"
           }
          ],
          "heatmap": [
           {
            "colorscale": [
             [
              0,
              "#000011"
             ],
             [
              0.1111111111111111,
              "#000012"
             ],
             [
              0.2222222222222222,
              "#000013"
             ],
             [
              0.3333333333333333,
              "#000014"
             ],
             [
              0.4444444444444444,
              "#000015"
             ],
             [
              0.5555555555555556,
              "#000016"
             ],
             [
              0.6666666666666666,
              "#000017"
             ],
             [
              0.7777777777777778,
              "#000018"
             ],
             [
              0.8888888888888888,
              "#000019"
             ],
             [
              1,
              "#000020"
             ]
            ],
            "type": "heatmap"
           }
          ],
          "histogram2d": [
           {
            "colorscale": [
             [
              0,
              "#000011"
             ],
             [
              0.1111111111111111,
              "#000012"
             ],
             [
              0.2222222222222222,
              "#000013"
             ],
             [
              0.3333333333333333,
              "#000014"
             ],
             [
              0.4444444444444444,
              "#000015"
             ],
             [
              0.5555555555555556,
              "#000016"
             ],
             [
              0.6666666666666666,
              "#000017"
             ],
             [
              0.7777777777777778,
              "#000018"
             ],
             [
              0.8888888888888888,
              "#000019"
             ],
             [
              1,
              "#000020"
             ]
            ],
            "type": "histogram2d"
           }
          ],
          "icicle": [
           {
            "textfont": {
             "color": "white"
            },
            "type": "icicle"
           }
          ],
          "sankey": [
           {
            "textfont": {
             "color": "#000036"
            },
            "type": "sankey"
           }
          ],
          "scatter": [
           {
            "marker": {
             "line": {
              "width": 0
             }
            },
            "type": "scatter"
           }
          ],
          "table": [
           {
            "cells": {
             "fill": {
              "color": "#000038"
             },
             "font": {
              "color": "#000037"
             },
             "line": {
              "color": "#000039"
             }
            },
            "header": {
             "fill": {
              "color": "#000040"
             },
             "font": {
              "color": "#000036"
             },
             "line": {
              "color": "#000039"
             }
            },
            "type": "table"
           }
          ],
          "waterfall": [
           {
            "connector": {
             "line": {
              "color": "#000036",
              "width": 2
             }
            },
            "decreasing": {
             "marker": {
              "color": "#000033"
             }
            },
            "increasing": {
             "marker": {
              "color": "#000032"
             }
            },
            "totals": {
             "marker": {
              "color": "#000034"
             }
            },
            "type": "waterfall"
           }
          ]
         },
         "layout": {
          "coloraxis": {
           "colorscale": [
            [
             0,
             "#000011"
            ],
            [
             0.1111111111111111,
             "#000012"
            ],
            [
             0.2222222222222222,
             "#000013"
            ],
            [
             0.3333333333333333,
             "#000014"
            ],
            [
             0.4444444444444444,
             "#000015"
            ],
            [
             0.5555555555555556,
             "#000016"
            ],
            [
             0.6666666666666666,
             "#000017"
            ],
            [
             0.7777777777777778,
             "#000018"
            ],
            [
             0.8888888888888888,
             "#000019"
            ],
            [
             1,
             "#000020"
            ]
           ]
          },
          "colorscale": {
           "diverging": [
            [
             0,
             "#000021"
            ],
            [
             0.1,
             "#000022"
            ],
            [
             0.2,
             "#000023"
            ],
            [
             0.3,
             "#000024"
            ],
            [
             0.4,
             "#000025"
            ],
            [
             0.5,
             "#000026"
            ],
            [
             0.6,
             "#000027"
            ],
            [
             0.7,
             "#000028"
            ],
            [
             0.8,
             "#000029"
            ],
            [
             0.9,
             "#000030"
            ],
            [
             1,
             "#000031"
            ]
           ],
           "sequential": [
            [
             0,
             "#000011"
            ],
            [
             0.1111111111111111,
             "#000012"
            ],
            [
             0.2222222222222222,
             "#000013"
            ],
            [
             0.3333333333333333,
             "#000014"
            ],
            [
             0.4444444444444444,
             "#000015"
            ],
            [
             0.5555555555555556,
             "#000016"
            ],
            [
             0.6666666666666666,
             "#000017"
            ],
            [
             0.7777777777777778,
             "#000018"
            ],
            [
             0.8888888888888888,
             "#000019"
            ],
            [
             1,
             "#000020"
            ]
           ],
           "sequentialminus": [
            [
             0,
             "#000011"
            ],
            [
             0.1111111111111111,
             "#000012"
            ],
            [
             0.2222222222222222,
             "#000013"
            ],
            [
             0.3333333333333333,
             "#000014"
            ],
            [
             0.4444444444444444,
             "#000015"
            ],
            [
             0.5555555555555556,
             "#000016"
            ],
            [
             0.6666666666666666,
             "#000017"
            ],
            [
             0.7777777777777778,
             "#000018"
            ],
            [
             0.8888888888888888,
             "#000019"
            ],
            [
             1,
             "#000020"
            ]
           ]
          },
          "colorway": [
           "#000001",
           "#000002",
           "#000003",
           "#000004",
           "#000005",
           "#000006",
           "#000007",
           "#000008",
           "#000009",
           "#000010"
          ]
         }
        },
        "title": {
         "text": "TOP 10 REGISTERED USERS"
        },
        "width": 600,
        "xaxis": {
         "anchor": "y",
         "domain": [
          0,
          1
         ],
         "title": {
          "text": "state"
         }
        },
        "yaxis": {
         "anchor": "x",
         "domain": [
          0,
          1
         ],
         "title": {
          "text": "registeredusers"
         }
        }
       }
      }
     },
     "metadata": {},
     "output_type": "display_data"
    },
    {
     "data": {
      "application/vnd.plotly.v1+json": {
       "config": {
        "plotlyServerURL": "https://plot.ly"
       },
       "data": [
        {
         "hovertemplate": "<b>%{hovertext}</b><br><br>state=%{x}<br>registeredusers=%{y}<extra></extra>",
         "hovertext": [
          "Lakshadweep",
          "Andaman & Nicobar",
          "Mizoram",
          "Ladakh",
          "Meghalaya",
          "Sikkim",
          "Nagaland",
          "Arunachal Pradesh",
          "Manipur",
          "Tripura"
         ],
         "legendgroup": "",
         "marker": {
          "color": "rgb(237, 239, 93)",
          "pattern": {
           "shape": ""
          }
         },
         "name": "",
         "orientation": "v",
         "showlegend": false,
         "textposition": "auto",
         "type": "bar",
         "x": [
          "Lakshadweep",
          "Andaman & Nicobar",
          "Mizoram",
          "Ladakh",
          "Meghalaya",
          "Sikkim",
          "Nagaland",
          "Arunachal Pradesh",
          "Manipur",
          "Tripura"
         ],
         "xaxis": "x",
         "y": [
          142697,
          1595515,
          1742353,
          2104997,
          3071995,
          3902866,
          3993452,
          4549668,
          4727496,
          4891131
         ],
         "yaxis": "y"
        }
       ],
       "layout": {
        "barmode": "relative",
        "height": 650,
        "legend": {
         "tracegroupgap": 0
        },
        "template": {
         "data": {
          "candlestick": [
           {
            "decreasing": {
             "line": {
              "color": "#000033"
             }
            },
            "increasing": {
             "line": {
              "color": "#000032"
             }
            },
            "type": "candlestick"
           }
          ],
          "contour": [
           {
            "colorscale": [
             [
              0,
              "#000011"
             ],
             [
              0.1111111111111111,
              "#000012"
             ],
             [
              0.2222222222222222,
              "#000013"
             ],
             [
              0.3333333333333333,
              "#000014"
             ],
             [
              0.4444444444444444,
              "#000015"
             ],
             [
              0.5555555555555556,
              "#000016"
             ],
             [
              0.6666666666666666,
              "#000017"
             ],
             [
              0.7777777777777778,
              "#000018"
             ],
             [
              0.8888888888888888,
              "#000019"
             ],
             [
              1,
              "#000020"
             ]
            ],
            "type": "contour"
           }
          ],
          "contourcarpet": [
           {
            "colorscale": [
             [
              0,
              "#000011"
             ],
             [
              0.1111111111111111,
              "#000012"
             ],
             [
              0.2222222222222222,
              "#000013"
             ],
             [
              0.3333333333333333,
              "#000014"
             ],
             [
              0.4444444444444444,
              "#000015"
             ],
             [
              0.5555555555555556,
              "#000016"
             ],
             [
              0.6666666666666666,
              "#000017"
             ],
             [
              0.7777777777777778,
              "#000018"
             ],
             [
              0.8888888888888888,
              "#000019"
             ],
             [
              1,
              "#000020"
             ]
            ],
            "type": "contourcarpet"
           }
          ],
          "heatmap": [
           {
            "colorscale": [
             [
              0,
              "#000011"
             ],
             [
              0.1111111111111111,
              "#000012"
             ],
             [
              0.2222222222222222,
              "#000013"
             ],
             [
              0.3333333333333333,
              "#000014"
             ],
             [
              0.4444444444444444,
              "#000015"
             ],
             [
              0.5555555555555556,
              "#000016"
             ],
             [
              0.6666666666666666,
              "#000017"
             ],
             [
              0.7777777777777778,
              "#000018"
             ],
             [
              0.8888888888888888,
              "#000019"
             ],
             [
              1,
              "#000020"
             ]
            ],
            "type": "heatmap"
           }
          ],
          "histogram2d": [
           {
            "colorscale": [
             [
              0,
              "#000011"
             ],
             [
              0.1111111111111111,
              "#000012"
             ],
             [
              0.2222222222222222,
              "#000013"
             ],
             [
              0.3333333333333333,
              "#000014"
             ],
             [
              0.4444444444444444,
              "#000015"
             ],
             [
              0.5555555555555556,
              "#000016"
             ],
             [
              0.6666666666666666,
              "#000017"
             ],
             [
              0.7777777777777778,
              "#000018"
             ],
             [
              0.8888888888888888,
              "#000019"
             ],
             [
              1,
              "#000020"
             ]
            ],
            "type": "histogram2d"
           }
          ],
          "icicle": [
           {
            "textfont": {
             "color": "white"
            },
            "type": "icicle"
           }
          ],
          "sankey": [
           {
            "textfont": {
             "color": "#000036"
            },
            "type": "sankey"
           }
          ],
          "scatter": [
           {
            "marker": {
             "line": {
              "width": 0
             }
            },
            "type": "scatter"
           }
          ],
          "table": [
           {
            "cells": {
             "fill": {
              "color": "#000038"
             },
             "font": {
              "color": "#000037"
             },
             "line": {
              "color": "#000039"
             }
            },
            "header": {
             "fill": {
              "color": "#000040"
             },
             "font": {
              "color": "#000036"
             },
             "line": {
              "color": "#000039"
             }
            },
            "type": "table"
           }
          ],
          "waterfall": [
           {
            "connector": {
             "line": {
              "color": "#000036",
              "width": 2
             }
            },
            "decreasing": {
             "marker": {
              "color": "#000033"
             }
            },
            "increasing": {
             "marker": {
              "color": "#000032"
             }
            },
            "totals": {
             "marker": {
              "color": "#000034"
             }
            },
            "type": "waterfall"
           }
          ]
         },
         "layout": {
          "coloraxis": {
           "colorscale": [
            [
             0,
             "#000011"
            ],
            [
             0.1111111111111111,
             "#000012"
            ],
            [
             0.2222222222222222,
             "#000013"
            ],
            [
             0.3333333333333333,
             "#000014"
            ],
            [
             0.4444444444444444,
             "#000015"
            ],
            [
             0.5555555555555556,
             "#000016"
            ],
            [
             0.6666666666666666,
             "#000017"
            ],
            [
             0.7777777777777778,
             "#000018"
            ],
            [
             0.8888888888888888,
             "#000019"
            ],
            [
             1,
             "#000020"
            ]
           ]
          },
          "colorscale": {
           "diverging": [
            [
             0,
             "#000021"
            ],
            [
             0.1,
             "#000022"
            ],
            [
             0.2,
             "#000023"
            ],
            [
             0.3,
             "#000024"
            ],
            [
             0.4,
             "#000025"
            ],
            [
             0.5,
             "#000026"
            ],
            [
             0.6,
             "#000027"
            ],
            [
             0.7,
             "#000028"
            ],
            [
             0.8,
             "#000029"
            ],
            [
             0.9,
             "#000030"
            ],
            [
             1,
             "#000031"
            ]
           ],
           "sequential": [
            [
             0,
             "#000011"
            ],
            [
             0.1111111111111111,
             "#000012"
            ],
            [
             0.2222222222222222,
             "#000013"
            ],
            [
             0.3333333333333333,
             "#000014"
            ],
            [
             0.4444444444444444,
             "#000015"
            ],
            [
             0.5555555555555556,
             "#000016"
            ],
            [
             0.6666666666666666,
             "#000017"
            ],
            [
             0.7777777777777778,
             "#000018"
            ],
            [
             0.8888888888888888,
             "#000019"
            ],
            [
             1,
             "#000020"
            ]
           ],
           "sequentialminus": [
            [
             0,
             "#000011"
            ],
            [
             0.1111111111111111,
             "#000012"
            ],
            [
             0.2222222222222222,
             "#000013"
            ],
            [
             0.3333333333333333,
             "#000014"
            ],
            [
             0.4444444444444444,
             "#000015"
            ],
            [
             0.5555555555555556,
             "#000016"
            ],
            [
             0.6666666666666666,
             "#000017"
            ],
            [
             0.7777777777777778,
             "#000018"
            ],
            [
             0.8888888888888888,
             "#000019"
            ],
            [
             1,
             "#000020"
            ]
           ]
          },
          "colorway": [
           "#000001",
           "#000002",
           "#000003",
           "#000004",
           "#000005",
           "#000006",
           "#000007",
           "#000008",
           "#000009",
           "#000010"
          ]
         }
        },
        "title": {
         "text": "LAST 10 REGISTERED USERS"
        },
        "width": 600,
        "xaxis": {
         "anchor": "y",
         "domain": [
          0,
          1
         ],
         "title": {
          "text": "state"
         }
        },
        "yaxis": {
         "anchor": "x",
         "domain": [
          0,
          1
         ],
         "title": {
          "text": "registeredusers"
         }
        }
       }
      }
     },
     "metadata": {},
     "output_type": "display_data"
    },
    {
     "data": {
      "application/vnd.plotly.v1+json": {
       "config": {
        "plotlyServerURL": "https://plot.ly"
       },
       "data": [
        {
         "hovertemplate": "<b>%{hovertext}</b><br><br>registeredusers=%{x}<br>state=%{y}<extra></extra>",
         "hovertext": [
          "Lakshadweep",
          "Andaman & Nicobar",
          "Mizoram",
          "Ladakh",
          "Meghalaya",
          "Sikkim",
          "Nagaland",
          "Arunachal Pradesh",
          "Manipur",
          "Tripura",
          "Puducherry",
          "Jammu & Kashmir",
          "Goa",
          "Kerala",
          "Chandigarh",
          "Assam",
          "Dadra & Nagar Haveli & Daman & Diu",
          "Himachal Pradesh",
          "Odisha",
          "West Bengal",
          "Jharkhand",
          "Tamil Nadu",
          "Chhattisgarh",
          "Uttarakhand",
          "Punjab",
          "Andhra Pradesh",
          "Bihar",
          "Madhya Pradesh",
          "Gujarat",
          "Rajasthan",
          "Telangana",
          "Haryana",
          "Maharashtra",
          "Uttar Pradesh",
          "Karnataka",
          "Delhi"
         ],
         "legendgroup": "",
         "marker": {
          "color": "rgb(255,0,0)",
          "pattern": {
           "shape": ""
          }
         },
         "name": "",
         "orientation": "h",
         "showlegend": false,
         "textposition": "auto",
         "type": "bar",
         "x": [
          631.4026548672566,
          5698.267857142857,
          6222.689285714286,
          7517.846428571429,
          10971.410714285714,
          13938.807142857144,
          14262.32857142857,
          16248.814285714287,
          16883.914285714287,
          17468.325,
          24333.35357142857,
          25392.714285714286,
          26437.217857142856,
          30650.37857142857,
          35244.80714285714,
          36225.08928571428,
          39680.73622047244,
          42246.21428571428,
          84937.425,
          88755.3892857143,
          101617.31428571428,
          108668.59642857143,
          111033.65357142857,
          114716.7,
          125168.97857142857,
          152463.55357142858,
          158887.57142857142,
          176963.5607142857,
          180184.87857142856,
          219730.59285714285,
          238297.65,
          248753.31785714286,
          291312.09642857144,
          294165.9464285714,
          295987.10714285716,
          324093.0142857143
         ],
         "xaxis": "x",
         "y": [
          "Lakshadweep",
          "Andaman & Nicobar",
          "Mizoram",
          "Ladakh",
          "Meghalaya",
          "Sikkim",
          "Nagaland",
          "Arunachal Pradesh",
          "Manipur",
          "Tripura",
          "Puducherry",
          "Jammu & Kashmir",
          "Goa",
          "Kerala",
          "Chandigarh",
          "Assam",
          "Dadra & Nagar Haveli & Daman & Diu",
          "Himachal Pradesh",
          "Odisha",
          "West Bengal",
          "Jharkhand",
          "Tamil Nadu",
          "Chhattisgarh",
          "Uttarakhand",
          "Punjab",
          "Andhra Pradesh",
          "Bihar",
          "Madhya Pradesh",
          "Gujarat",
          "Rajasthan",
          "Telangana",
          "Haryana",
          "Maharashtra",
          "Uttar Pradesh",
          "Karnataka",
          "Delhi"
         ],
         "yaxis": "y"
        }
       ],
       "layout": {
        "barmode": "relative",
        "height": 650,
        "legend": {
         "tracegroupgap": 0
        },
        "template": {
         "data": {
          "candlestick": [
           {
            "decreasing": {
             "line": {
              "color": "#000033"
             }
            },
            "increasing": {
             "line": {
              "color": "#000032"
             }
            },
            "type": "candlestick"
           }
          ],
          "contour": [
           {
            "colorscale": [
             [
              0,
              "#000011"
             ],
             [
              0.1111111111111111,
              "#000012"
             ],
             [
              0.2222222222222222,
              "#000013"
             ],
             [
              0.3333333333333333,
              "#000014"
             ],
             [
              0.4444444444444444,
              "#000015"
             ],
             [
              0.5555555555555556,
              "#000016"
             ],
             [
              0.6666666666666666,
              "#000017"
             ],
             [
              0.7777777777777778,
              "#000018"
             ],
             [
              0.8888888888888888,
              "#000019"
             ],
             [
              1,
              "#000020"
             ]
            ],
            "type": "contour"
           }
          ],
          "contourcarpet": [
           {
            "colorscale": [
             [
              0,
              "#000011"
             ],
             [
              0.1111111111111111,
              "#000012"
             ],
             [
              0.2222222222222222,
              "#000013"
             ],
             [
              0.3333333333333333,
              "#000014"
             ],
             [
              0.4444444444444444,
              "#000015"
             ],
             [
              0.5555555555555556,
              "#000016"
             ],
             [
              0.6666666666666666,
              "#000017"
             ],
             [
              0.7777777777777778,
              "#000018"
             ],
             [
              0.8888888888888888,
              "#000019"
             ],
             [
              1,
              "#000020"
             ]
            ],
            "type": "contourcarpet"
           }
          ],
          "heatmap": [
           {
            "colorscale": [
             [
              0,
              "#000011"
             ],
             [
              0.1111111111111111,
              "#000012"
             ],
             [
              0.2222222222222222,
              "#000013"
             ],
             [
              0.3333333333333333,
              "#000014"
             ],
             [
              0.4444444444444444,
              "#000015"
             ],
             [
              0.5555555555555556,
              "#000016"
             ],
             [
              0.6666666666666666,
              "#000017"
             ],
             [
              0.7777777777777778,
              "#000018"
             ],
             [
              0.8888888888888888,
              "#000019"
             ],
             [
              1,
              "#000020"
             ]
            ],
            "type": "heatmap"
           }
          ],
          "histogram2d": [
           {
            "colorscale": [
             [
              0,
              "#000011"
             ],
             [
              0.1111111111111111,
              "#000012"
             ],
             [
              0.2222222222222222,
              "#000013"
             ],
             [
              0.3333333333333333,
              "#000014"
             ],
             [
              0.4444444444444444,
              "#000015"
             ],
             [
              0.5555555555555556,
              "#000016"
             ],
             [
              0.6666666666666666,
              "#000017"
             ],
             [
              0.7777777777777778,
              "#000018"
             ],
             [
              0.8888888888888888,
              "#000019"
             ],
             [
              1,
              "#000020"
             ]
            ],
            "type": "histogram2d"
           }
          ],
          "icicle": [
           {
            "textfont": {
             "color": "white"
            },
            "type": "icicle"
           }
          ],
          "sankey": [
           {
            "textfont": {
             "color": "#000036"
            },
            "type": "sankey"
           }
          ],
          "scatter": [
           {
            "marker": {
             "line": {
              "width": 0
             }
            },
            "type": "scatter"
           }
          ],
          "table": [
           {
            "cells": {
             "fill": {
              "color": "#000038"
             },
             "font": {
              "color": "#000037"
             },
             "line": {
              "color": "#000039"
             }
            },
            "header": {
             "fill": {
              "color": "#000040"
             },
             "font": {
              "color": "#000036"
             },
             "line": {
              "color": "#000039"
             }
            },
            "type": "table"
           }
          ],
          "waterfall": [
           {
            "connector": {
             "line": {
              "color": "#000036",
              "width": 2
             }
            },
            "decreasing": {
             "marker": {
              "color": "#000033"
             }
            },
            "increasing": {
             "marker": {
              "color": "#000032"
             }
            },
            "totals": {
             "marker": {
              "color": "#000034"
             }
            },
            "type": "waterfall"
           }
          ]
         },
         "layout": {
          "coloraxis": {
           "colorscale": [
            [
             0,
             "#000011"
            ],
            [
             0.1111111111111111,
             "#000012"
            ],
            [
             0.2222222222222222,
             "#000013"
            ],
            [
             0.3333333333333333,
             "#000014"
            ],
            [
             0.4444444444444444,
             "#000015"
            ],
            [
             0.5555555555555556,
             "#000016"
            ],
            [
             0.6666666666666666,
             "#000017"
            ],
            [
             0.7777777777777778,
             "#000018"
            ],
            [
             0.8888888888888888,
             "#000019"
            ],
            [
             1,
             "#000020"
            ]
           ]
          },
          "colorscale": {
           "diverging": [
            [
             0,
             "#000021"
            ],
            [
             0.1,
             "#000022"
            ],
            [
             0.2,
             "#000023"
            ],
            [
             0.3,
             "#000024"
            ],
            [
             0.4,
             "#000025"
            ],
            [
             0.5,
             "#000026"
            ],
            [
             0.6,
             "#000027"
            ],
            [
             0.7,
             "#000028"
            ],
            [
             0.8,
             "#000029"
            ],
            [
             0.9,
             "#000030"
            ],
            [
             1,
             "#000031"
            ]
           ],
           "sequential": [
            [
             0,
             "#000011"
            ],
            [
             0.1111111111111111,
             "#000012"
            ],
            [
             0.2222222222222222,
             "#000013"
            ],
            [
             0.3333333333333333,
             "#000014"
            ],
            [
             0.4444444444444444,
             "#000015"
            ],
            [
             0.5555555555555556,
             "#000016"
            ],
            [
             0.6666666666666666,
             "#000017"
            ],
            [
             0.7777777777777778,
             "#000018"
            ],
            [
             0.8888888888888888,
             "#000019"
            ],
            [
             1,
             "#000020"
            ]
           ],
           "sequentialminus": [
            [
             0,
             "#000011"
            ],
            [
             0.1111111111111111,
             "#000012"
            ],
            [
             0.2222222222222222,
             "#000013"
            ],
            [
             0.3333333333333333,
             "#000014"
            ],
            [
             0.4444444444444444,
             "#000015"
            ],
            [
             0.5555555555555556,
             "#000016"
            ],
            [
             0.6666666666666666,
             "#000017"
            ],
            [
             0.7777777777777778,
             "#000018"
            ],
            [
             0.8888888888888888,
             "#000019"
            ],
            [
             1,
             "#000020"
            ]
           ]
          },
          "colorway": [
           "#000001",
           "#000002",
           "#000003",
           "#000004",
           "#000005",
           "#000006",
           "#000007",
           "#000008",
           "#000009",
           "#000010"
          ]
         }
        },
        "title": {
         "text": "AVERAGE OF REGISTERED USERS"
        },
        "width": 600,
        "xaxis": {
         "anchor": "y",
         "domain": [
          0,
          1
         ],
         "title": {
          "text": "registeredusers"
         }
        },
        "yaxis": {
         "anchor": "x",
         "domain": [
          0,
          1
         ],
         "title": {
          "text": "state"
         }
        }
       }
      }
     },
     "metadata": {},
     "output_type": "display_data"
    }
   ],
   "source": [
    "top_chart_registered_user(\"top_user\")"
   ]
  },
  {
   "cell_type": "code",
   "execution_count": 28,
   "id": "5f97c5c8",
   "metadata": {},
   "outputs": [
    {
     "data": {
      "application/vnd.plotly.v1+json": {
       "config": {
        "plotlyServerURL": "https://plot.ly"
       },
       "data": [
        {
         "hovertemplate": "district=%{x}<br>appopens=%{y}<extra></extra>",
         "legendgroup": "",
         "marker": {
          "color": "rgb(36, 86, 104)",
          "pattern": {
           "shape": ""
          }
         },
         "name": "",
         "orientation": "v",
         "showlegend": false,
         "textposition": "auto",
         "type": "bar",
         "x": [
          "coimbatore district",
          "krishnagiri district",
          "chennai district",
          "tiruvannamalai district",
          "tiruppur district",
          "thiruvallur district",
          "chengalpattu district",
          "salem district",
          "dindigul district",
          "dharmapuri district"
         ],
         "xaxis": "x",
         "y": [
          1044933546,
          926276593,
          909758648,
          789806643,
          758660025,
          756389044,
          736303757,
          715405468,
          622129502,
          540788016
         ],
         "yaxis": "y"
        }
       ],
       "layout": {
        "barmode": "relative",
        "height": 650,
        "legend": {
         "tracegroupgap": 0
        },
        "template": {
         "data": {
          "candlestick": [
           {
            "decreasing": {
             "line": {
              "color": "#000033"
             }
            },
            "increasing": {
             "line": {
              "color": "#000032"
             }
            },
            "type": "candlestick"
           }
          ],
          "contour": [
           {
            "colorscale": [
             [
              0,
              "#000011"
             ],
             [
              0.1111111111111111,
              "#000012"
             ],
             [
              0.2222222222222222,
              "#000013"
             ],
             [
              0.3333333333333333,
              "#000014"
             ],
             [
              0.4444444444444444,
              "#000015"
             ],
             [
              0.5555555555555556,
              "#000016"
             ],
             [
              0.6666666666666666,
              "#000017"
             ],
             [
              0.7777777777777778,
              "#000018"
             ],
             [
              0.8888888888888888,
              "#000019"
             ],
             [
              1,
              "#000020"
             ]
            ],
            "type": "contour"
           }
          ],
          "contourcarpet": [
           {
            "colorscale": [
             [
              0,
              "#000011"
             ],
             [
              0.1111111111111111,
              "#000012"
             ],
             [
              0.2222222222222222,
              "#000013"
             ],
             [
              0.3333333333333333,
              "#000014"
             ],
             [
              0.4444444444444444,
              "#000015"
             ],
             [
              0.5555555555555556,
              "#000016"
             ],
             [
              0.6666666666666666,
              "#000017"
             ],
             [
              0.7777777777777778,
              "#000018"
             ],
             [
              0.8888888888888888,
              "#000019"
             ],
             [
              1,
              "#000020"
             ]
            ],
            "type": "contourcarpet"
           }
          ],
          "heatmap": [
           {
            "colorscale": [
             [
              0,
              "#000011"
             ],
             [
              0.1111111111111111,
              "#000012"
             ],
             [
              0.2222222222222222,
              "#000013"
             ],
             [
              0.3333333333333333,
              "#000014"
             ],
             [
              0.4444444444444444,
              "#000015"
             ],
             [
              0.5555555555555556,
              "#000016"
             ],
             [
              0.6666666666666666,
              "#000017"
             ],
             [
              0.7777777777777778,
              "#000018"
             ],
             [
              0.8888888888888888,
              "#000019"
             ],
             [
              1,
              "#000020"
             ]
            ],
            "type": "heatmap"
           }
          ],
          "histogram2d": [
           {
            "colorscale": [
             [
              0,
              "#000011"
             ],
             [
              0.1111111111111111,
              "#000012"
             ],
             [
              0.2222222222222222,
              "#000013"
             ],
             [
              0.3333333333333333,
              "#000014"
             ],
             [
              0.4444444444444444,
              "#000015"
             ],
             [
              0.5555555555555556,
              "#000016"
             ],
             [
              0.6666666666666666,
              "#000017"
             ],
             [
              0.7777777777777778,
              "#000018"
             ],
             [
              0.8888888888888888,
              "#000019"
             ],
             [
              1,
              "#000020"
             ]
            ],
            "type": "histogram2d"
           }
          ],
          "icicle": [
           {
            "textfont": {
             "color": "white"
            },
            "type": "icicle"
           }
          ],
          "sankey": [
           {
            "textfont": {
             "color": "#000036"
            },
            "type": "sankey"
           }
          ],
          "scatter": [
           {
            "marker": {
             "line": {
              "width": 0
             }
            },
            "type": "scatter"
           }
          ],
          "table": [
           {
            "cells": {
             "fill": {
              "color": "#000038"
             },
             "font": {
              "color": "#000037"
             },
             "line": {
              "color": "#000039"
             }
            },
            "header": {
             "fill": {
              "color": "#000040"
             },
             "font": {
              "color": "#000036"
             },
             "line": {
              "color": "#000039"
             }
            },
            "type": "table"
           }
          ],
          "waterfall": [
           {
            "connector": {
             "line": {
              "color": "#000036",
              "width": 2
             }
            },
            "decreasing": {
             "marker": {
              "color": "#000033"
             }
            },
            "increasing": {
             "marker": {
              "color": "#000032"
             }
            },
            "totals": {
             "marker": {
              "color": "#000034"
             }
            },
            "type": "waterfall"
           }
          ]
         },
         "layout": {
          "coloraxis": {
           "colorscale": [
            [
             0,
             "#000011"
            ],
            [
             0.1111111111111111,
             "#000012"
            ],
            [
             0.2222222222222222,
             "#000013"
            ],
            [
             0.3333333333333333,
             "#000014"
            ],
            [
             0.4444444444444444,
             "#000015"
            ],
            [
             0.5555555555555556,
             "#000016"
            ],
            [
             0.6666666666666666,
             "#000017"
            ],
            [
             0.7777777777777778,
             "#000018"
            ],
            [
             0.8888888888888888,
             "#000019"
            ],
            [
             1,
             "#000020"
            ]
           ]
          },
          "colorscale": {
           "diverging": [
            [
             0,
             "#000021"
            ],
            [
             0.1,
             "#000022"
            ],
            [
             0.2,
             "#000023"
            ],
            [
             0.3,
             "#000024"
            ],
            [
             0.4,
             "#000025"
            ],
            [
             0.5,
             "#000026"
            ],
            [
             0.6,
             "#000027"
            ],
            [
             0.7,
             "#000028"
            ],
            [
             0.8,
             "#000029"
            ],
            [
             0.9,
             "#000030"
            ],
            [
             1,
             "#000031"
            ]
           ],
           "sequential": [
            [
             0,
             "#000011"
            ],
            [
             0.1111111111111111,
             "#000012"
            ],
            [
             0.2222222222222222,
             "#000013"
            ],
            [
             0.3333333333333333,
             "#000014"
            ],
            [
             0.4444444444444444,
             "#000015"
            ],
            [
             0.5555555555555556,
             "#000016"
            ],
            [
             0.6666666666666666,
             "#000017"
            ],
            [
             0.7777777777777778,
             "#000018"
            ],
            [
             0.8888888888888888,
             "#000019"
            ],
            [
             1,
             "#000020"
            ]
           ],
           "sequentialminus": [
            [
             0,
             "#000011"
            ],
            [
             0.1111111111111111,
             "#000012"
            ],
            [
             0.2222222222222222,
             "#000013"
            ],
            [
             0.3333333333333333,
             "#000014"
            ],
            [
             0.4444444444444444,
             "#000015"
            ],
            [
             0.5555555555555556,
             "#000016"
            ],
            [
             0.6666666666666666,
             "#000017"
            ],
            [
             0.7777777777777778,
             "#000018"
            ],
            [
             0.8888888888888888,
             "#000019"
            ],
            [
             1,
             "#000020"
            ]
           ]
          },
          "colorway": [
           "#000001",
           "#000002",
           "#000003",
           "#000004",
           "#000005",
           "#000006",
           "#000007",
           "#000008",
           "#000009",
           "#000010"
          ]
         }
        },
        "title": {
         "text": "TOP 10 APPOPENS"
        },
        "width": 600,
        "xaxis": {
         "anchor": "y",
         "domain": [
          0,
          1
         ],
         "title": {
          "text": "district"
         }
        },
        "yaxis": {
         "anchor": "x",
         "domain": [
          0,
          1
         ],
         "title": {
          "text": "appopens"
         }
        }
       }
      }
     },
     "metadata": {},
     "output_type": "display_data"
    },
    {
     "data": {
      "application/vnd.plotly.v1+json": {
       "config": {
        "plotlyServerURL": "https://plot.ly"
       },
       "data": [
        {
         "hovertemplate": "<b>%{hovertext}</b><br><br>district=%{x}<br>appopens=%{y}<extra></extra>",
         "hovertext": [
          "mayiladuthurai district",
          "tiruvarur district",
          "thoothukudi district",
          "kallakurichi district",
          "perambalur district",
          "tiruvallur district",
          "ariyalur district",
          "thiruvarur district",
          "nagapattinam district",
          "kanniyakumari district"
         ],
         "legendgroup": "",
         "marker": {
          "color": "rgb(237, 239, 93)",
          "pattern": {
           "shape": ""
          }
         },
         "name": "",
         "orientation": "v",
         "showlegend": false,
         "textposition": "auto",
         "type": "bar",
         "x": [
          "mayiladuthurai district",
          "tiruvarur district",
          "thoothukudi district",
          "kallakurichi district",
          "perambalur district",
          "tiruvallur district",
          "ariyalur district",
          "thiruvarur district",
          "nagapattinam district",
          "kanniyakumari district"
         ],
         "xaxis": "x",
         "y": [
          18022299,
          30620868,
          77832018,
          79789427,
          126041050,
          127017103,
          163356287,
          164838327,
          207101114,
          214823928
         ],
         "yaxis": "y"
        }
       ],
       "layout": {
        "barmode": "relative",
        "height": 650,
        "legend": {
         "tracegroupgap": 0
        },
        "template": {
         "data": {
          "candlestick": [
           {
            "decreasing": {
             "line": {
              "color": "#000033"
             }
            },
            "increasing": {
             "line": {
              "color": "#000032"
             }
            },
            "type": "candlestick"
           }
          ],
          "contour": [
           {
            "colorscale": [
             [
              0,
              "#000011"
             ],
             [
              0.1111111111111111,
              "#000012"
             ],
             [
              0.2222222222222222,
              "#000013"
             ],
             [
              0.3333333333333333,
              "#000014"
             ],
             [
              0.4444444444444444,
              "#000015"
             ],
             [
              0.5555555555555556,
              "#000016"
             ],
             [
              0.6666666666666666,
              "#000017"
             ],
             [
              0.7777777777777778,
              "#000018"
             ],
             [
              0.8888888888888888,
              "#000019"
             ],
             [
              1,
              "#000020"
             ]
            ],
            "type": "contour"
           }
          ],
          "contourcarpet": [
           {
            "colorscale": [
             [
              0,
              "#000011"
             ],
             [
              0.1111111111111111,
              "#000012"
             ],
             [
              0.2222222222222222,
              "#000013"
             ],
             [
              0.3333333333333333,
              "#000014"
             ],
             [
              0.4444444444444444,
              "#000015"
             ],
             [
              0.5555555555555556,
              "#000016"
             ],
             [
              0.6666666666666666,
              "#000017"
             ],
             [
              0.7777777777777778,
              "#000018"
             ],
             [
              0.8888888888888888,
              "#000019"
             ],
             [
              1,
              "#000020"
             ]
            ],
            "type": "contourcarpet"
           }
          ],
          "heatmap": [
           {
            "colorscale": [
             [
              0,
              "#000011"
             ],
             [
              0.1111111111111111,
              "#000012"
             ],
             [
              0.2222222222222222,
              "#000013"
             ],
             [
              0.3333333333333333,
              "#000014"
             ],
             [
              0.4444444444444444,
              "#000015"
             ],
             [
              0.5555555555555556,
              "#000016"
             ],
             [
              0.6666666666666666,
              "#000017"
             ],
             [
              0.7777777777777778,
              "#000018"
             ],
             [
              0.8888888888888888,
              "#000019"
             ],
             [
              1,
              "#000020"
             ]
            ],
            "type": "heatmap"
           }
          ],
          "histogram2d": [
           {
            "colorscale": [
             [
              0,
              "#000011"
             ],
             [
              0.1111111111111111,
              "#000012"
             ],
             [
              0.2222222222222222,
              "#000013"
             ],
             [
              0.3333333333333333,
              "#000014"
             ],
             [
              0.4444444444444444,
              "#000015"
             ],
             [
              0.5555555555555556,
              "#000016"
             ],
             [
              0.6666666666666666,
              "#000017"
             ],
             [
              0.7777777777777778,
              "#000018"
             ],
             [
              0.8888888888888888,
              "#000019"
             ],
             [
              1,
              "#000020"
             ]
            ],
            "type": "histogram2d"
           }
          ],
          "icicle": [
           {
            "textfont": {
             "color": "white"
            },
            "type": "icicle"
           }
          ],
          "sankey": [
           {
            "textfont": {
             "color": "#000036"
            },
            "type": "sankey"
           }
          ],
          "scatter": [
           {
            "marker": {
             "line": {
              "width": 0
             }
            },
            "type": "scatter"
           }
          ],
          "table": [
           {
            "cells": {
             "fill": {
              "color": "#000038"
             },
             "font": {
              "color": "#000037"
             },
             "line": {
              "color": "#000039"
             }
            },
            "header": {
             "fill": {
              "color": "#000040"
             },
             "font": {
              "color": "#000036"
             },
             "line": {
              "color": "#000039"
             }
            },
            "type": "table"
           }
          ],
          "waterfall": [
           {
            "connector": {
             "line": {
              "color": "#000036",
              "width": 2
             }
            },
            "decreasing": {
             "marker": {
              "color": "#000033"
             }
            },
            "increasing": {
             "marker": {
              "color": "#000032"
             }
            },
            "totals": {
             "marker": {
              "color": "#000034"
             }
            },
            "type": "waterfall"
           }
          ]
         },
         "layout": {
          "coloraxis": {
           "colorscale": [
            [
             0,
             "#000011"
            ],
            [
             0.1111111111111111,
             "#000012"
            ],
            [
             0.2222222222222222,
             "#000013"
            ],
            [
             0.3333333333333333,
             "#000014"
            ],
            [
             0.4444444444444444,
             "#000015"
            ],
            [
             0.5555555555555556,
             "#000016"
            ],
            [
             0.6666666666666666,
             "#000017"
            ],
            [
             0.7777777777777778,
             "#000018"
            ],
            [
             0.8888888888888888,
             "#000019"
            ],
            [
             1,
             "#000020"
            ]
           ]
          },
          "colorscale": {
           "diverging": [
            [
             0,
             "#000021"
            ],
            [
             0.1,
             "#000022"
            ],
            [
             0.2,
             "#000023"
            ],
            [
             0.3,
             "#000024"
            ],
            [
             0.4,
             "#000025"
            ],
            [
             0.5,
             "#000026"
            ],
            [
             0.6,
             "#000027"
            ],
            [
             0.7,
             "#000028"
            ],
            [
             0.8,
             "#000029"
            ],
            [
             0.9,
             "#000030"
            ],
            [
             1,
             "#000031"
            ]
           ],
           "sequential": [
            [
             0,
             "#000011"
            ],
            [
             0.1111111111111111,
             "#000012"
            ],
            [
             0.2222222222222222,
             "#000013"
            ],
            [
             0.3333333333333333,
             "#000014"
            ],
            [
             0.4444444444444444,
             "#000015"
            ],
            [
             0.5555555555555556,
             "#000016"
            ],
            [
             0.6666666666666666,
             "#000017"
            ],
            [
             0.7777777777777778,
             "#000018"
            ],
            [
             0.8888888888888888,
             "#000019"
            ],
            [
             1,
             "#000020"
            ]
           ],
           "sequentialminus": [
            [
             0,
             "#000011"
            ],
            [
             0.1111111111111111,
             "#000012"
            ],
            [
             0.2222222222222222,
             "#000013"
            ],
            [
             0.3333333333333333,
             "#000014"
            ],
            [
             0.4444444444444444,
             "#000015"
            ],
            [
             0.5555555555555556,
             "#000016"
            ],
            [
             0.6666666666666666,
             "#000017"
            ],
            [
             0.7777777777777778,
             "#000018"
            ],
            [
             0.8888888888888888,
             "#000019"
            ],
            [
             1,
             "#000020"
            ]
           ]
          },
          "colorway": [
           "#000001",
           "#000002",
           "#000003",
           "#000004",
           "#000005",
           "#000006",
           "#000007",
           "#000008",
           "#000009",
           "#000010"
          ]
         }
        },
        "title": {
         "text": "LAST 10 APPOPENS"
        },
        "width": 600,
        "xaxis": {
         "anchor": "y",
         "domain": [
          0,
          1
         ],
         "title": {
          "text": "district"
         }
        },
        "yaxis": {
         "anchor": "x",
         "domain": [
          0,
          1
         ],
         "title": {
          "text": "appopens"
         }
        }
       }
      }
     },
     "metadata": {},
     "output_type": "display_data"
    },
    {
     "data": {
      "application/vnd.plotly.v1+json": {
       "config": {
        "plotlyServerURL": "https://plot.ly"
       },
       "data": [
        {
         "hovertemplate": "<b>%{hovertext}</b><br><br>appopens=%{x}<br>district=%{y}<extra></extra>",
         "hovertext": [
          "perambalur district",
          "ariyalur district",
          "thiruvarur district",
          "nagapattinam district",
          "kanniyakumari district",
          "the nilgiris district",
          "tenkasi district",
          "mayiladuthurai district",
          "ranipet district",
          "theni district",
          "vellore district",
          "tirupathur district",
          "kallakkurichi district",
          "ramanathapuram district",
          "thoothukkudi district",
          "tirunelveli district",
          "thanjavur district",
          "cuddalore district",
          "virudhunagar district",
          "viluppuram district",
          "namakkal district",
          "karur district",
          "tiruvarur district",
          "sivaganga district",
          "pudukkottai district",
          "erode district",
          "kancheepuram district",
          "tiruchirappalli district",
          "madurai district",
          "dharmapuri district",
          "dindigul district",
          "salem district",
          "chengalpattu district",
          "tiruppur district",
          "tiruvannamalai district",
          "thiruvallur district",
          "chennai district",
          "krishnagiri district",
          "coimbatore district",
          "thoothukudi district",
          "kallakurichi district",
          "tiruvallur district"
         ],
         "legendgroup": "",
         "marker": {
          "color": "rgb(255,0,0)",
          "pattern": {
           "shape": ""
          }
         },
         "name": "",
         "orientation": "h",
         "showlegend": false,
         "textposition": "auto",
         "type": "bar",
         "x": [
          4501466.071428572,
          5834153.107142857,
          6339935.653846154,
          7396468.357142857,
          7672283.142857143,
          7745855.75,
          7877730.785714285,
          9011149.5,
          9038982.642857144,
          10117258.035714285,
          10593086.464285715,
          10800708.57142857,
          11152616.307692308,
          11547862.357142856,
          11835157.653846154,
          12059303.82142857,
          12310414.32142857,
          13092515.714285715,
          13303567.92857143,
          13589504.142857144,
          13719641.035714285,
          14449246.714285715,
          15310434,
          16011557.142857144,
          16306241.785714285,
          16951524.07142857,
          17461410.285714287,
          18101204.67857143,
          18658940.535714287,
          19313857.714285713,
          22218910.785714287,
          25550195.285714287,
          26296562.75,
          27095000.89285714,
          28207380.10714286,
          29091886.307692308,
          32491380.285714287,
          33081306.89285714,
          37319055.21428572,
          38916009,
          39894713.5,
          63508551.5
         ],
         "xaxis": "x",
         "y": [
          "perambalur district",
          "ariyalur district",
          "thiruvarur district",
          "nagapattinam district",
          "kanniyakumari district",
          "the nilgiris district",
          "tenkasi district",
          "mayiladuthurai district",
          "ranipet district",
          "theni district",
          "vellore district",
          "tirupathur district",
          "kallakkurichi district",
          "ramanathapuram district",
          "thoothukkudi district",
          "tirunelveli district",
          "thanjavur district",
          "cuddalore district",
          "virudhunagar district",
          "viluppuram district",
          "namakkal district",
          "karur district",
          "tiruvarur district",
          "sivaganga district",
          "pudukkottai district",
          "erode district",
          "kancheepuram district",
          "tiruchirappalli district",
          "madurai district",
          "dharmapuri district",
          "dindigul district",
          "salem district",
          "chengalpattu district",
          "tiruppur district",
          "tiruvannamalai district",
          "thiruvallur district",
          "chennai district",
          "krishnagiri district",
          "coimbatore district",
          "thoothukudi district",
          "kallakurichi district",
          "tiruvallur district"
         ],
         "yaxis": "y"
        }
       ],
       "layout": {
        "barmode": "relative",
        "height": 650,
        "legend": {
         "tracegroupgap": 0
        },
        "template": {
         "data": {
          "candlestick": [
           {
            "decreasing": {
             "line": {
              "color": "#000033"
             }
            },
            "increasing": {
             "line": {
              "color": "#000032"
             }
            },
            "type": "candlestick"
           }
          ],
          "contour": [
           {
            "colorscale": [
             [
              0,
              "#000011"
             ],
             [
              0.1111111111111111,
              "#000012"
             ],
             [
              0.2222222222222222,
              "#000013"
             ],
             [
              0.3333333333333333,
              "#000014"
             ],
             [
              0.4444444444444444,
              "#000015"
             ],
             [
              0.5555555555555556,
              "#000016"
             ],
             [
              0.6666666666666666,
              "#000017"
             ],
             [
              0.7777777777777778,
              "#000018"
             ],
             [
              0.8888888888888888,
              "#000019"
             ],
             [
              1,
              "#000020"
             ]
            ],
            "type": "contour"
           }
          ],
          "contourcarpet": [
           {
            "colorscale": [
             [
              0,
              "#000011"
             ],
             [
              0.1111111111111111,
              "#000012"
             ],
             [
              0.2222222222222222,
              "#000013"
             ],
             [
              0.3333333333333333,
              "#000014"
             ],
             [
              0.4444444444444444,
              "#000015"
             ],
             [
              0.5555555555555556,
              "#000016"
             ],
             [
              0.6666666666666666,
              "#000017"
             ],
             [
              0.7777777777777778,
              "#000018"
             ],
             [
              0.8888888888888888,
              "#000019"
             ],
             [
              1,
              "#000020"
             ]
            ],
            "type": "contourcarpet"
           }
          ],
          "heatmap": [
           {
            "colorscale": [
             [
              0,
              "#000011"
             ],
             [
              0.1111111111111111,
              "#000012"
             ],
             [
              0.2222222222222222,
              "#000013"
             ],
             [
              0.3333333333333333,
              "#000014"
             ],
             [
              0.4444444444444444,
              "#000015"
             ],
             [
              0.5555555555555556,
              "#000016"
             ],
             [
              0.6666666666666666,
              "#000017"
             ],
             [
              0.7777777777777778,
              "#000018"
             ],
             [
              0.8888888888888888,
              "#000019"
             ],
             [
              1,
              "#000020"
             ]
            ],
            "type": "heatmap"
           }
          ],
          "histogram2d": [
           {
            "colorscale": [
             [
              0,
              "#000011"
             ],
             [
              0.1111111111111111,
              "#000012"
             ],
             [
              0.2222222222222222,
              "#000013"
             ],
             [
              0.3333333333333333,
              "#000014"
             ],
             [
              0.4444444444444444,
              "#000015"
             ],
             [
              0.5555555555555556,
              "#000016"
             ],
             [
              0.6666666666666666,
              "#000017"
             ],
             [
              0.7777777777777778,
              "#000018"
             ],
             [
              0.8888888888888888,
              "#000019"
             ],
             [
              1,
              "#000020"
             ]
            ],
            "type": "histogram2d"
           }
          ],
          "icicle": [
           {
            "textfont": {
             "color": "white"
            },
            "type": "icicle"
           }
          ],
          "sankey": [
           {
            "textfont": {
             "color": "#000036"
            },
            "type": "sankey"
           }
          ],
          "scatter": [
           {
            "marker": {
             "line": {
              "width": 0
             }
            },
            "type": "scatter"
           }
          ],
          "table": [
           {
            "cells": {
             "fill": {
              "color": "#000038"
             },
             "font": {
              "color": "#000037"
             },
             "line": {
              "color": "#000039"
             }
            },
            "header": {
             "fill": {
              "color": "#000040"
             },
             "font": {
              "color": "#000036"
             },
             "line": {
              "color": "#000039"
             }
            },
            "type": "table"
           }
          ],
          "waterfall": [
           {
            "connector": {
             "line": {
              "color": "#000036",
              "width": 2
             }
            },
            "decreasing": {
             "marker": {
              "color": "#000033"
             }
            },
            "increasing": {
             "marker": {
              "color": "#000032"
             }
            },
            "totals": {
             "marker": {
              "color": "#000034"
             }
            },
            "type": "waterfall"
           }
          ]
         },
         "layout": {
          "coloraxis": {
           "colorscale": [
            [
             0,
             "#000011"
            ],
            [
             0.1111111111111111,
             "#000012"
            ],
            [
             0.2222222222222222,
             "#000013"
            ],
            [
             0.3333333333333333,
             "#000014"
            ],
            [
             0.4444444444444444,
             "#000015"
            ],
            [
             0.5555555555555556,
             "#000016"
            ],
            [
             0.6666666666666666,
             "#000017"
            ],
            [
             0.7777777777777778,
             "#000018"
            ],
            [
             0.8888888888888888,
             "#000019"
            ],
            [
             1,
             "#000020"
            ]
           ]
          },
          "colorscale": {
           "diverging": [
            [
             0,
             "#000021"
            ],
            [
             0.1,
             "#000022"
            ],
            [
             0.2,
             "#000023"
            ],
            [
             0.3,
             "#000024"
            ],
            [
             0.4,
             "#000025"
            ],
            [
             0.5,
             "#000026"
            ],
            [
             0.6,
             "#000027"
            ],
            [
             0.7,
             "#000028"
            ],
            [
             0.8,
             "#000029"
            ],
            [
             0.9,
             "#000030"
            ],
            [
             1,
             "#000031"
            ]
           ],
           "sequential": [
            [
             0,
             "#000011"
            ],
            [
             0.1111111111111111,
             "#000012"
            ],
            [
             0.2222222222222222,
             "#000013"
            ],
            [
             0.3333333333333333,
             "#000014"
            ],
            [
             0.4444444444444444,
             "#000015"
            ],
            [
             0.5555555555555556,
             "#000016"
            ],
            [
             0.6666666666666666,
             "#000017"
            ],
            [
             0.7777777777777778,
             "#000018"
            ],
            [
             0.8888888888888888,
             "#000019"
            ],
            [
             1,
             "#000020"
            ]
           ],
           "sequentialminus": [
            [
             0,
             "#000011"
            ],
            [
             0.1111111111111111,
             "#000012"
            ],
            [
             0.2222222222222222,
             "#000013"
            ],
            [
             0.3333333333333333,
             "#000014"
            ],
            [
             0.4444444444444444,
             "#000015"
            ],
            [
             0.5555555555555556,
             "#000016"
            ],
            [
             0.6666666666666666,
             "#000017"
            ],
            [
             0.7777777777777778,
             "#000018"
            ],
            [
             0.8888888888888888,
             "#000019"
            ],
            [
             1,
             "#000020"
            ]
           ]
          },
          "colorway": [
           "#000001",
           "#000002",
           "#000003",
           "#000004",
           "#000005",
           "#000006",
           "#000007",
           "#000008",
           "#000009",
           "#000010"
          ]
         }
        },
        "title": {
         "text": "AVERAGE OF APPOPENS"
        },
        "width": 600,
        "xaxis": {
         "anchor": "y",
         "domain": [
          0,
          1
         ],
         "title": {
          "text": "appopens"
         }
        },
        "yaxis": {
         "anchor": "x",
         "domain": [
          0,
          1
         ],
         "title": {
          "text": "district"
         }
        }
       }
      }
     },
     "metadata": {},
     "output_type": "display_data"
    }
   ],
   "source": [
    "top_chart_appopens(\"map_user\", \"Tamil Nadu\")"
   ]
  },
  {
   "cell_type": "code",
   "execution_count": 23,
   "id": "456fd432",
   "metadata": {},
   "outputs": [
    {
     "data": {
      "application/vnd.plotly.v1+json": {
       "config": {
        "plotlyServerURL": "https://plot.ly"
       },
       "data": [
        {
         "hovertemplate": "district=%{x}<br>registeredusers=%{y}<extra></extra>",
         "legendgroup": "",
         "marker": {
          "color": "rgb(36, 86, 104)",
          "pattern": {
           "shape": ""
          }
         },
         "name": "",
         "orientation": "v",
         "showlegend": false,
         "textposition": "auto",
         "type": "bar",
         "x": [
          "chennai district",
          "thiruvallur district",
          "coimbatore district",
          "chengalpattu district",
          "kancheepuram district",
          "tiruppur district",
          "salem district",
          "madurai district",
          "krishnagiri district",
          "tiruchirappalli district"
         ],
         "xaxis": "x",
         "y": [
          60490490,
          40468327,
          39627880,
          38351134,
          25679597,
          23863842,
          21272861,
          19048714,
          18178191,
          15991883
         ],
         "yaxis": "y"
        }
       ],
       "layout": {
        "barmode": "relative",
        "height": 650,
        "legend": {
         "tracegroupgap": 0
        },
        "template": {
         "data": {
          "candlestick": [
           {
            "decreasing": {
             "line": {
              "color": "#000033"
             }
            },
            "increasing": {
             "line": {
              "color": "#000032"
             }
            },
            "type": "candlestick"
           }
          ],
          "contour": [
           {
            "colorscale": [
             [
              0,
              "#000011"
             ],
             [
              0.1111111111111111,
              "#000012"
             ],
             [
              0.2222222222222222,
              "#000013"
             ],
             [
              0.3333333333333333,
              "#000014"
             ],
             [
              0.4444444444444444,
              "#000015"
             ],
             [
              0.5555555555555556,
              "#000016"
             ],
             [
              0.6666666666666666,
              "#000017"
             ],
             [
              0.7777777777777778,
              "#000018"
             ],
             [
              0.8888888888888888,
              "#000019"
             ],
             [
              1,
              "#000020"
             ]
            ],
            "type": "contour"
           }
          ],
          "contourcarpet": [
           {
            "colorscale": [
             [
              0,
              "#000011"
             ],
             [
              0.1111111111111111,
              "#000012"
             ],
             [
              0.2222222222222222,
              "#000013"
             ],
             [
              0.3333333333333333,
              "#000014"
             ],
             [
              0.4444444444444444,
              "#000015"
             ],
             [
              0.5555555555555556,
              "#000016"
             ],
             [
              0.6666666666666666,
              "#000017"
             ],
             [
              0.7777777777777778,
              "#000018"
             ],
             [
              0.8888888888888888,
              "#000019"
             ],
             [
              1,
              "#000020"
             ]
            ],
            "type": "contourcarpet"
           }
          ],
          "heatmap": [
           {
            "colorscale": [
             [
              0,
              "#000011"
             ],
             [
              0.1111111111111111,
              "#000012"
             ],
             [
              0.2222222222222222,
              "#000013"
             ],
             [
              0.3333333333333333,
              "#000014"
             ],
             [
              0.4444444444444444,
              "#000015"
             ],
             [
              0.5555555555555556,
              "#000016"
             ],
             [
              0.6666666666666666,
              "#000017"
             ],
             [
              0.7777777777777778,
              "#000018"
             ],
             [
              0.8888888888888888,
              "#000019"
             ],
             [
              1,
              "#000020"
             ]
            ],
            "type": "heatmap"
           }
          ],
          "histogram2d": [
           {
            "colorscale": [
             [
              0,
              "#000011"
             ],
             [
              0.1111111111111111,
              "#000012"
             ],
             [
              0.2222222222222222,
              "#000013"
             ],
             [
              0.3333333333333333,
              "#000014"
             ],
             [
              0.4444444444444444,
              "#000015"
             ],
             [
              0.5555555555555556,
              "#000016"
             ],
             [
              0.6666666666666666,
              "#000017"
             ],
             [
              0.7777777777777778,
              "#000018"
             ],
             [
              0.8888888888888888,
              "#000019"
             ],
             [
              1,
              "#000020"
             ]
            ],
            "type": "histogram2d"
           }
          ],
          "icicle": [
           {
            "textfont": {
             "color": "white"
            },
            "type": "icicle"
           }
          ],
          "sankey": [
           {
            "textfont": {
             "color": "#000036"
            },
            "type": "sankey"
           }
          ],
          "scatter": [
           {
            "marker": {
             "line": {
              "width": 0
             }
            },
            "type": "scatter"
           }
          ],
          "table": [
           {
            "cells": {
             "fill": {
              "color": "#000038"
             },
             "font": {
              "color": "#000037"
             },
             "line": {
              "color": "#000039"
             }
            },
            "header": {
             "fill": {
              "color": "#000040"
             },
             "font": {
              "color": "#000036"
             },
             "line": {
              "color": "#000039"
             }
            },
            "type": "table"
           }
          ],
          "waterfall": [
           {
            "connector": {
             "line": {
              "color": "#000036",
              "width": 2
             }
            },
            "decreasing": {
             "marker": {
              "color": "#000033"
             }
            },
            "increasing": {
             "marker": {
              "color": "#000032"
             }
            },
            "totals": {
             "marker": {
              "color": "#000034"
             }
            },
            "type": "waterfall"
           }
          ]
         },
         "layout": {
          "coloraxis": {
           "colorscale": [
            [
             0,
             "#000011"
            ],
            [
             0.1111111111111111,
             "#000012"
            ],
            [
             0.2222222222222222,
             "#000013"
            ],
            [
             0.3333333333333333,
             "#000014"
            ],
            [
             0.4444444444444444,
             "#000015"
            ],
            [
             0.5555555555555556,
             "#000016"
            ],
            [
             0.6666666666666666,
             "#000017"
            ],
            [
             0.7777777777777778,
             "#000018"
            ],
            [
             0.8888888888888888,
             "#000019"
            ],
            [
             1,
             "#000020"
            ]
           ]
          },
          "colorscale": {
           "diverging": [
            [
             0,
             "#000021"
            ],
            [
             0.1,
             "#000022"
            ],
            [
             0.2,
             "#000023"
            ],
            [
             0.3,
             "#000024"
            ],
            [
             0.4,
             "#000025"
            ],
            [
             0.5,
             "#000026"
            ],
            [
             0.6,
             "#000027"
            ],
            [
             0.7,
             "#000028"
            ],
            [
             0.8,
             "#000029"
            ],
            [
             0.9,
             "#000030"
            ],
            [
             1,
             "#000031"
            ]
           ],
           "sequential": [
            [
             0,
             "#000011"
            ],
            [
             0.1111111111111111,
             "#000012"
            ],
            [
             0.2222222222222222,
             "#000013"
            ],
            [
             0.3333333333333333,
             "#000014"
            ],
            [
             0.4444444444444444,
             "#000015"
            ],
            [
             0.5555555555555556,
             "#000016"
            ],
            [
             0.6666666666666666,
             "#000017"
            ],
            [
             0.7777777777777778,
             "#000018"
            ],
            [
             0.8888888888888888,
             "#000019"
            ],
            [
             1,
             "#000020"
            ]
           ],
           "sequentialminus": [
            [
             0,
             "#000011"
            ],
            [
             0.1111111111111111,
             "#000012"
            ],
            [
             0.2222222222222222,
             "#000013"
            ],
            [
             0.3333333333333333,
             "#000014"
            ],
            [
             0.4444444444444444,
             "#000015"
            ],
            [
             0.5555555555555556,
             "#000016"
            ],
            [
             0.6666666666666666,
             "#000017"
            ],
            [
             0.7777777777777778,
             "#000018"
            ],
            [
             0.8888888888888888,
             "#000019"
            ],
            [
             1,
             "#000020"
            ]
           ]
          },
          "colorway": [
           "#000001",
           "#000002",
           "#000003",
           "#000004",
           "#000005",
           "#000006",
           "#000007",
           "#000008",
           "#000009",
           "#000010"
          ]
         }
        },
        "title": {
         "text": "TOP 10 REGISTERED USER"
        },
        "width": 600,
        "xaxis": {
         "anchor": "y",
         "domain": [
          0,
          1
         ],
         "title": {
          "text": "district"
         }
        },
        "yaxis": {
         "anchor": "x",
         "domain": [
          0,
          1
         ],
         "title": {
          "text": "registeredusers"
         }
        }
       }
      }
     },
     "metadata": {},
     "output_type": "display_data"
    },
    {
     "data": {
      "application/vnd.plotly.v1+json": {
       "config": {
        "plotlyServerURL": "https://plot.ly"
       },
       "data": [
        {
         "hovertemplate": "<b>%{hovertext}</b><br><br>district=%{x}<br>registeredusers=%{y}<extra></extra>",
         "hovertext": [
          "mayiladuthurai district",
          "tiruvarur district",
          "kallakurichi district",
          "thoothukudi district",
          "perambalur district",
          "ariyalur district",
          "tiruvallur district",
          "thiruvarur district",
          "the nilgiris district",
          "tenkasi district"
         ],
         "legendgroup": "",
         "marker": {
          "color": "rgb(237, 239, 93)",
          "pattern": {
           "shape": ""
          }
         },
         "name": "",
         "orientation": "v",
         "showlegend": false,
         "textposition": "auto",
         "type": "bar",
         "x": [
          "mayiladuthurai district",
          "tiruvarur district",
          "kallakurichi district",
          "thoothukudi district",
          "perambalur district",
          "ariyalur district",
          "tiruvallur district",
          "thiruvarur district",
          "the nilgiris district",
          "tenkasi district"
         ],
         "xaxis": "x",
         "y": [
          462212,
          564023,
          839231,
          1077786,
          2602302,
          3086580,
          3350094,
          3361958,
          3955863,
          4752817
         ],
         "yaxis": "y"
        }
       ],
       "layout": {
        "barmode": "relative",
        "height": 650,
        "legend": {
         "tracegroupgap": 0
        },
        "template": {
         "data": {
          "candlestick": [
           {
            "decreasing": {
             "line": {
              "color": "#000033"
             }
            },
            "increasing": {
             "line": {
              "color": "#000032"
             }
            },
            "type": "candlestick"
           }
          ],
          "contour": [
           {
            "colorscale": [
             [
              0,
              "#000011"
             ],
             [
              0.1111111111111111,
              "#000012"
             ],
             [
              0.2222222222222222,
              "#000013"
             ],
             [
              0.3333333333333333,
              "#000014"
             ],
             [
              0.4444444444444444,
              "#000015"
             ],
             [
              0.5555555555555556,
              "#000016"
             ],
             [
              0.6666666666666666,
              "#000017"
             ],
             [
              0.7777777777777778,
              "#000018"
             ],
             [
              0.8888888888888888,
              "#000019"
             ],
             [
              1,
              "#000020"
             ]
            ],
            "type": "contour"
           }
          ],
          "contourcarpet": [
           {
            "colorscale": [
             [
              0,
              "#000011"
             ],
             [
              0.1111111111111111,
              "#000012"
             ],
             [
              0.2222222222222222,
              "#000013"
             ],
             [
              0.3333333333333333,
              "#000014"
             ],
             [
              0.4444444444444444,
              "#000015"
             ],
             [
              0.5555555555555556,
              "#000016"
             ],
             [
              0.6666666666666666,
              "#000017"
             ],
             [
              0.7777777777777778,
              "#000018"
             ],
             [
              0.8888888888888888,
              "#000019"
             ],
             [
              1,
              "#000020"
             ]
            ],
            "type": "contourcarpet"
           }
          ],
          "heatmap": [
           {
            "colorscale": [
             [
              0,
              "#000011"
             ],
             [
              0.1111111111111111,
              "#000012"
             ],
             [
              0.2222222222222222,
              "#000013"
             ],
             [
              0.3333333333333333,
              "#000014"
             ],
             [
              0.4444444444444444,
              "#000015"
             ],
             [
              0.5555555555555556,
              "#000016"
             ],
             [
              0.6666666666666666,
              "#000017"
             ],
             [
              0.7777777777777778,
              "#000018"
             ],
             [
              0.8888888888888888,
              "#000019"
             ],
             [
              1,
              "#000020"
             ]
            ],
            "type": "heatmap"
           }
          ],
          "histogram2d": [
           {
            "colorscale": [
             [
              0,
              "#000011"
             ],
             [
              0.1111111111111111,
              "#000012"
             ],
             [
              0.2222222222222222,
              "#000013"
             ],
             [
              0.3333333333333333,
              "#000014"
             ],
             [
              0.4444444444444444,
              "#000015"
             ],
             [
              0.5555555555555556,
              "#000016"
             ],
             [
              0.6666666666666666,
              "#000017"
             ],
             [
              0.7777777777777778,
              "#000018"
             ],
             [
              0.8888888888888888,
              "#000019"
             ],
             [
              1,
              "#000020"
             ]
            ],
            "type": "histogram2d"
           }
          ],
          "icicle": [
           {
            "textfont": {
             "color": "white"
            },
            "type": "icicle"
           }
          ],
          "sankey": [
           {
            "textfont": {
             "color": "#000036"
            },
            "type": "sankey"
           }
          ],
          "scatter": [
           {
            "marker": {
             "line": {
              "width": 0
             }
            },
            "type": "scatter"
           }
          ],
          "table": [
           {
            "cells": {
             "fill": {
              "color": "#000038"
             },
             "font": {
              "color": "#000037"
             },
             "line": {
              "color": "#000039"
             }
            },
            "header": {
             "fill": {
              "color": "#000040"
             },
             "font": {
              "color": "#000036"
             },
             "line": {
              "color": "#000039"
             }
            },
            "type": "table"
           }
          ],
          "waterfall": [
           {
            "connector": {
             "line": {
              "color": "#000036",
              "width": 2
             }
            },
            "decreasing": {
             "marker": {
              "color": "#000033"
             }
            },
            "increasing": {
             "marker": {
              "color": "#000032"
             }
            },
            "totals": {
             "marker": {
              "color": "#000034"
             }
            },
            "type": "waterfall"
           }
          ]
         },
         "layout": {
          "coloraxis": {
           "colorscale": [
            [
             0,
             "#000011"
            ],
            [
             0.1111111111111111,
             "#000012"
            ],
            [
             0.2222222222222222,
             "#000013"
            ],
            [
             0.3333333333333333,
             "#000014"
            ],
            [
             0.4444444444444444,
             "#000015"
            ],
            [
             0.5555555555555556,
             "#000016"
            ],
            [
             0.6666666666666666,
             "#000017"
            ],
            [
             0.7777777777777778,
             "#000018"
            ],
            [
             0.8888888888888888,
             "#000019"
            ],
            [
             1,
             "#000020"
            ]
           ]
          },
          "colorscale": {
           "diverging": [
            [
             0,
             "#000021"
            ],
            [
             0.1,
             "#000022"
            ],
            [
             0.2,
             "#000023"
            ],
            [
             0.3,
             "#000024"
            ],
            [
             0.4,
             "#000025"
            ],
            [
             0.5,
             "#000026"
            ],
            [
             0.6,
             "#000027"
            ],
            [
             0.7,
             "#000028"
            ],
            [
             0.8,
             "#000029"
            ],
            [
             0.9,
             "#000030"
            ],
            [
             1,
             "#000031"
            ]
           ],
           "sequential": [
            [
             0,
             "#000011"
            ],
            [
             0.1111111111111111,
             "#000012"
            ],
            [
             0.2222222222222222,
             "#000013"
            ],
            [
             0.3333333333333333,
             "#000014"
            ],
            [
             0.4444444444444444,
             "#000015"
            ],
            [
             0.5555555555555556,
             "#000016"
            ],
            [
             0.6666666666666666,
             "#000017"
            ],
            [
             0.7777777777777778,
             "#000018"
            ],
            [
             0.8888888888888888,
             "#000019"
            ],
            [
             1,
             "#000020"
            ]
           ],
           "sequentialminus": [
            [
             0,
             "#000011"
            ],
            [
             0.1111111111111111,
             "#000012"
            ],
            [
             0.2222222222222222,
             "#000013"
            ],
            [
             0.3333333333333333,
             "#000014"
            ],
            [
             0.4444444444444444,
             "#000015"
            ],
            [
             0.5555555555555556,
             "#000016"
            ],
            [
             0.6666666666666666,
             "#000017"
            ],
            [
             0.7777777777777778,
             "#000018"
            ],
            [
             0.8888888888888888,
             "#000019"
            ],
            [
             1,
             "#000020"
            ]
           ]
          },
          "colorway": [
           "#000001",
           "#000002",
           "#000003",
           "#000004",
           "#000005",
           "#000006",
           "#000007",
           "#000008",
           "#000009",
           "#000010"
          ]
         }
        },
        "title": {
         "text": "LAST 10 REGISTERED USER"
        },
        "width": 600,
        "xaxis": {
         "anchor": "y",
         "domain": [
          0,
          1
         ],
         "title": {
          "text": "district"
         }
        },
        "yaxis": {
         "anchor": "x",
         "domain": [
          0,
          1
         ],
         "title": {
          "text": "registeredusers"
         }
        }
       }
      }
     },
     "metadata": {},
     "output_type": "display_data"
    },
    {
     "ename": "ValueError",
     "evalue": "Value of 'hover_name' is not the name of a column in 'data_frame'. Expected one of ['district', 'registeredusers'] but received: Ddistrict",
     "output_type": "error",
     "traceback": [
      "\u001b[31m---------------------------------------------------------------------------\u001b[39m",
      "\u001b[31mValueError\u001b[39m                                Traceback (most recent call last)",
      "\u001b[36mCell\u001b[39m\u001b[36m \u001b[39m\u001b[32mIn[23]\u001b[39m\u001b[32m, line 1\u001b[39m\n\u001b[32m----> \u001b[39m\u001b[32m1\u001b[39m \u001b[43mtop_chart_registered_users\u001b[49m\u001b[43m(\u001b[49m\u001b[33;43m\"\u001b[39;49m\u001b[33;43mmap_user\u001b[39;49m\u001b[33;43m\"\u001b[39;49m\u001b[43m,\u001b[49m\u001b[43m \u001b[49m\u001b[33;43m'\u001b[39;49m\u001b[33;43mTamil Nadu\u001b[39;49m\u001b[33;43m'\u001b[39;49m\u001b[43m)\u001b[49m\n",
      "\u001b[36mCell\u001b[39m\u001b[36m \u001b[39m\u001b[32mIn[22]\u001b[39m\u001b[32m, line 72\u001b[39m, in \u001b[36mtop_chart_registered_users\u001b[39m\u001b[34m(table_name, state)\u001b[39m\n\u001b[32m     68\u001b[39m connect.commit()\n\u001b[32m     70\u001b[39m df_2 = pd.DataFrame(tabel_3, columns= (\u001b[33m'\u001b[39m\u001b[33mdistrict\u001b[39m\u001b[33m'\u001b[39m, \u001b[33m'\u001b[39m\u001b[33mregisteredusers\u001b[39m\u001b[33m'\u001b[39m))\n\u001b[32m---> \u001b[39m\u001b[32m72\u001b[39m fig_amount_3 = \u001b[43mpx\u001b[49m\u001b[43m.\u001b[49m\u001b[43mbar\u001b[49m\u001b[43m(\u001b[49m\u001b[43mdf_2\u001b[49m\u001b[43m,\u001b[49m\u001b[43m \u001b[49m\u001b[43my\u001b[49m\u001b[43m=\u001b[49m\u001b[33;43m'\u001b[39;49m\u001b[33;43mdistrict\u001b[39;49m\u001b[33;43m'\u001b[39;49m\u001b[43m,\u001b[49m\u001b[43m \u001b[49m\u001b[43mx\u001b[49m\u001b[43m=\u001b[49m\u001b[33;43m'\u001b[39;49m\u001b[33;43mregisteredusers\u001b[39;49m\u001b[33;43m'\u001b[39;49m\u001b[43m,\u001b[49m\u001b[43m \u001b[49m\u001b[43mtitle\u001b[49m\u001b[43m \u001b[49m\u001b[43m=\u001b[49m\u001b[43m \u001b[49m\u001b[33;43m'\u001b[39;49m\u001b[33;43mAVERAGE OF REGISTERED USER\u001b[39;49m\u001b[33;43m'\u001b[39;49m\u001b[43m,\u001b[49m\u001b[43m \u001b[49m\u001b[43mhover_name\u001b[49m\u001b[43m=\u001b[49m\u001b[43m \u001b[49m\u001b[33;43m\"\u001b[39;49m\u001b[33;43mDdistrict\u001b[39;49m\u001b[33;43m\"\u001b[39;49m\u001b[43m,\u001b[49m\u001b[43m \u001b[49m\u001b[43morientation\u001b[49m\u001b[43m=\u001b[49m\u001b[43m \u001b[49m\u001b[33;43m'\u001b[39;49m\u001b[33;43mh\u001b[39;49m\u001b[33;43m'\u001b[39;49m\u001b[43m,\u001b[49m\u001b[43m \u001b[49m\n\u001b[32m     73\u001b[39m \u001b[43m                        \u001b[49m\u001b[43mcolor_discrete_sequence\u001b[49m\u001b[43m=\u001b[49m\u001b[43m \u001b[49m\u001b[43mpx\u001b[49m\u001b[43m.\u001b[49m\u001b[43mcolors\u001b[49m\u001b[43m.\u001b[49m\u001b[43msequential\u001b[49m\u001b[43m.\u001b[49m\u001b[43mBluered_r\u001b[49m\u001b[43m,\u001b[49m\u001b[43m \u001b[49m\u001b[43mheight\u001b[49m\u001b[43m=\u001b[49m\u001b[32;43m650\u001b[39;49m\u001b[43m,\u001b[49m\u001b[43m \u001b[49m\u001b[43mwidth\u001b[49m\u001b[43m=\u001b[49m\u001b[32;43m600\u001b[39;49m\u001b[43m)\u001b[49m\n\u001b[32m     74\u001b[39m fig_amount_3.show()\n",
      "\u001b[36mFile \u001b[39m\u001b[32md:\\SRMK\\Guvi\\PhonePe-Transaction\\.venv\\Lib\\site-packages\\plotly\\express\\_chart_types.py:381\u001b[39m, in \u001b[36mbar\u001b[39m\u001b[34m(data_frame, x, y, color, pattern_shape, facet_row, facet_col, facet_col_wrap, facet_row_spacing, facet_col_spacing, hover_name, hover_data, custom_data, text, base, error_x, error_x_minus, error_y, error_y_minus, animation_frame, animation_group, category_orders, labels, color_discrete_sequence, color_discrete_map, color_continuous_scale, pattern_shape_sequence, pattern_shape_map, range_color, color_continuous_midpoint, opacity, orientation, barmode, log_x, log_y, range_x, range_y, text_auto, title, subtitle, template, width, height)\u001b[39m\n\u001b[32m    332\u001b[39m \u001b[38;5;28;01mdef\u001b[39;00m\u001b[38;5;250m \u001b[39m\u001b[34mbar\u001b[39m(\n\u001b[32m    333\u001b[39m     data_frame=\u001b[38;5;28;01mNone\u001b[39;00m,\n\u001b[32m    334\u001b[39m     x=\u001b[38;5;28;01mNone\u001b[39;00m,\n\u001b[32m   (...)\u001b[39m\u001b[32m    375\u001b[39m     height=\u001b[38;5;28;01mNone\u001b[39;00m,\n\u001b[32m    376\u001b[39m ) -> go.Figure:\n\u001b[32m    377\u001b[39m \u001b[38;5;250m    \u001b[39m\u001b[33;03m\"\"\"\u001b[39;00m\n\u001b[32m    378\u001b[39m \u001b[33;03m    In a bar plot, each row of `data_frame` is represented as a rectangular\u001b[39;00m\n\u001b[32m    379\u001b[39m \u001b[33;03m    mark.\u001b[39;00m\n\u001b[32m    380\u001b[39m \u001b[33;03m    \"\"\"\u001b[39;00m\n\u001b[32m--> \u001b[39m\u001b[32m381\u001b[39m     \u001b[38;5;28;01mreturn\u001b[39;00m \u001b[43mmake_figure\u001b[49m\u001b[43m(\u001b[49m\n\u001b[32m    382\u001b[39m \u001b[43m        \u001b[49m\u001b[43margs\u001b[49m\u001b[43m=\u001b[49m\u001b[38;5;28;43mlocals\u001b[39;49m\u001b[43m(\u001b[49m\u001b[43m)\u001b[49m\u001b[43m,\u001b[49m\n\u001b[32m    383\u001b[39m \u001b[43m        \u001b[49m\u001b[43mconstructor\u001b[49m\u001b[43m=\u001b[49m\u001b[43mgo\u001b[49m\u001b[43m.\u001b[49m\u001b[43mBar\u001b[49m\u001b[43m,\u001b[49m\n\u001b[32m    384\u001b[39m \u001b[43m        \u001b[49m\u001b[43mtrace_patch\u001b[49m\u001b[43m=\u001b[49m\u001b[38;5;28;43mdict\u001b[39;49m\u001b[43m(\u001b[49m\u001b[43mtextposition\u001b[49m\u001b[43m=\u001b[49m\u001b[33;43m\"\u001b[39;49m\u001b[33;43mauto\u001b[39;49m\u001b[33;43m\"\u001b[39;49m\u001b[43m)\u001b[49m\u001b[43m,\u001b[49m\n\u001b[32m    385\u001b[39m \u001b[43m        \u001b[49m\u001b[43mlayout_patch\u001b[49m\u001b[43m=\u001b[49m\u001b[38;5;28;43mdict\u001b[39;49m\u001b[43m(\u001b[49m\u001b[43mbarmode\u001b[49m\u001b[43m=\u001b[49m\u001b[43mbarmode\u001b[49m\u001b[43m)\u001b[49m\u001b[43m,\u001b[49m\n\u001b[32m    386\u001b[39m \u001b[43m    \u001b[49m\u001b[43m)\u001b[49m\n",
      "\u001b[36mFile \u001b[39m\u001b[32md:\\SRMK\\Guvi\\PhonePe-Transaction\\.venv\\Lib\\site-packages\\plotly\\express\\_core.py:2483\u001b[39m, in \u001b[36mmake_figure\u001b[39m\u001b[34m(args, constructor, trace_patch, layout_patch)\u001b[39m\n\u001b[32m   2480\u001b[39m layout_patch = layout_patch \u001b[38;5;129;01mor\u001b[39;00m {}\n\u001b[32m   2481\u001b[39m apply_default_cascade(args)\n\u001b[32m-> \u001b[39m\u001b[32m2483\u001b[39m args = \u001b[43mbuild_dataframe\u001b[49m\u001b[43m(\u001b[49m\u001b[43margs\u001b[49m\u001b[43m,\u001b[49m\u001b[43m \u001b[49m\u001b[43mconstructor\u001b[49m\u001b[43m)\u001b[49m\n\u001b[32m   2484\u001b[39m \u001b[38;5;28;01mif\u001b[39;00m constructor \u001b[38;5;129;01min\u001b[39;00m [go.Treemap, go.Sunburst, go.Icicle] \u001b[38;5;129;01mand\u001b[39;00m args[\u001b[33m\"\u001b[39m\u001b[33mpath\u001b[39m\u001b[33m\"\u001b[39m] \u001b[38;5;129;01mis\u001b[39;00m \u001b[38;5;129;01mnot\u001b[39;00m \u001b[38;5;28;01mNone\u001b[39;00m:\n\u001b[32m   2485\u001b[39m     args = process_dataframe_hierarchy(args)\n",
      "\u001b[36mFile \u001b[39m\u001b[32md:\\SRMK\\Guvi\\PhonePe-Transaction\\.venv\\Lib\\site-packages\\plotly\\express\\_core.py:1729\u001b[39m, in \u001b[36mbuild_dataframe\u001b[39m\u001b[34m(args, constructor)\u001b[39m\n\u001b[32m   1726\u001b[39m     args[\u001b[33m\"\u001b[39m\u001b[33mcolor\u001b[39m\u001b[33m\"\u001b[39m] = \u001b[38;5;28;01mNone\u001b[39;00m\n\u001b[32m   1727\u001b[39m \u001b[38;5;66;03m# now that things have been prepped, we do the systematic rewriting of `args`\u001b[39;00m\n\u001b[32m-> \u001b[39m\u001b[32m1729\u001b[39m df_output, wide_id_vars = \u001b[43mprocess_args_into_dataframe\u001b[49m\u001b[43m(\u001b[49m\n\u001b[32m   1730\u001b[39m \u001b[43m    \u001b[49m\u001b[43margs\u001b[49m\u001b[43m,\u001b[49m\n\u001b[32m   1731\u001b[39m \u001b[43m    \u001b[49m\u001b[43mwide_mode\u001b[49m\u001b[43m,\u001b[49m\n\u001b[32m   1732\u001b[39m \u001b[43m    \u001b[49m\u001b[43mvar_name\u001b[49m\u001b[43m,\u001b[49m\n\u001b[32m   1733\u001b[39m \u001b[43m    \u001b[49m\u001b[43mvalue_name\u001b[49m\u001b[43m,\u001b[49m\n\u001b[32m   1734\u001b[39m \u001b[43m    \u001b[49m\u001b[43mis_pd_like\u001b[49m\u001b[43m,\u001b[49m\n\u001b[32m   1735\u001b[39m \u001b[43m    \u001b[49m\u001b[43mnative_namespace\u001b[49m\u001b[43m,\u001b[49m\n\u001b[32m   1736\u001b[39m \u001b[43m\u001b[49m\u001b[43m)\u001b[49m\n\u001b[32m   1737\u001b[39m df_output: nw.DataFrame\n\u001b[32m   1738\u001b[39m \u001b[38;5;66;03m# now that `df_output` exists and `args` contains only references, we complete\u001b[39;00m\n\u001b[32m   1739\u001b[39m \u001b[38;5;66;03m# the special-case and wide-mode handling by further rewriting args and/or mutating\u001b[39;00m\n\u001b[32m   1740\u001b[39m \u001b[38;5;66;03m# df_output\u001b[39;00m\n",
      "\u001b[36mFile \u001b[39m\u001b[32md:\\SRMK\\Guvi\\PhonePe-Transaction\\.venv\\Lib\\site-packages\\plotly\\express\\_core.py:1330\u001b[39m, in \u001b[36mprocess_args_into_dataframe\u001b[39m\u001b[34m(args, wide_mode, var_name, value_name, is_pd_like, native_namespace)\u001b[39m\n\u001b[32m   1328\u001b[39m         \u001b[38;5;28;01mif\u001b[39;00m argument == \u001b[33m\"\u001b[39m\u001b[33mindex\u001b[39m\u001b[33m\"\u001b[39m:\n\u001b[32m   1329\u001b[39m             err_msg += \u001b[33m\"\u001b[39m\u001b[38;5;130;01m\\n\u001b[39;00m\u001b[33m To use the index, pass it in directly as `df.index`.\u001b[39m\u001b[33m\"\u001b[39m\n\u001b[32m-> \u001b[39m\u001b[32m1330\u001b[39m         \u001b[38;5;28;01mraise\u001b[39;00m \u001b[38;5;167;01mValueError\u001b[39;00m(err_msg)\n\u001b[32m   1331\u001b[39m \u001b[38;5;28;01melif\u001b[39;00m length \u001b[38;5;129;01mand\u001b[39;00m (actual_len := \u001b[38;5;28mlen\u001b[39m(df_input)) != length:\n\u001b[32m   1332\u001b[39m     \u001b[38;5;28;01mraise\u001b[39;00m \u001b[38;5;167;01mValueError\u001b[39;00m(\n\u001b[32m   1333\u001b[39m         \u001b[33m\"\u001b[39m\u001b[33mAll arguments should have the same length. \u001b[39m\u001b[33m\"\u001b[39m\n\u001b[32m   1334\u001b[39m         \u001b[33m\"\u001b[39m\u001b[33mThe length of column argument `df[\u001b[39m\u001b[38;5;132;01m%s\u001b[39;00m\u001b[33m]` is \u001b[39m\u001b[38;5;132;01m%d\u001b[39;00m\u001b[33m, whereas the \u001b[39m\u001b[33m\"\u001b[39m\n\u001b[32m   (...)\u001b[39m\u001b[32m   1341\u001b[39m         )\n\u001b[32m   1342\u001b[39m     )\n",
      "\u001b[31mValueError\u001b[39m: Value of 'hover_name' is not the name of a column in 'data_frame'. Expected one of ['district', 'registeredusers'] but received: Ddistrict"
     ]
    }
   ],
   "source": [
    "top_chart_registered_users(\"map_user\", 'Tamil Nadu')"
   ]
  },
  {
   "cell_type": "code",
   "execution_count": null,
   "id": "7cd0d941",
   "metadata": {},
   "outputs": [],
   "source": [
    "top_chart_transaction_amount(\"agg_transaction\")"
   ]
  },
  {
   "cell_type": "code",
   "execution_count": 3,
   "id": "df56baa8",
   "metadata": {},
   "outputs": [],
   "source": [
    "# Transaction_Year_Based\n",
    "\n",
    "def Transaction_amount_count_Y(df, year):\n",
    "    #(Boolean Series)\n",
    "    tacy = df[df['Quarter'] == year]\n",
    "    tacy.reset_index(drop = True, inplace= True)\n",
    "\n",
    "    tacyg = tacy.groupby('State')[['Transaction_count', 'Transaction_amount']].sum()\n",
    "    tacyg.reset_index(inplace=True)\n",
    "\n",
    "    fig_amount = px.bar(tacyg, x='State', y='Transaction_amount', title =f'{year} Transaction Amount', \n",
    "                         color_discrete_sequence= px.colors.sequential.Aggrnyl, height=650, width=600)\n",
    "    fig_amount.show()\n",
    "\n",
    "    fig_count = px.bar(tacyg,x = 'State', y='Transaction_count', title =f'{year} Transaction Count',\n",
    "                       color_discrete_sequence= px.colors.sequential.Aggrnyl, height=650, width=600)\n",
    "    fig_count.show()\n",
    "\n",
    "    url = \"https://gist.githubusercontent.com/jbrobst/56c13bbbf9d97d187fea01ca62ea5112/raw/e388c4cae20aa53cb5090210a42ebb9b765c0a36/india_states.geojson\"\n",
    "    response = requests.get(url)\n",
    "\n",
    "    data1 = json.loads(response.content)\n",
    "\n",
    "    states_name = []\n",
    "\n",
    "    for feature in data1[\"features\"]:\n",
    "        print(feature['properties'])\n",
    "        states_name.append(feature['properties']['ST_NM'])\n",
    "\n",
    "    states_name.sort()\n",
    "\n",
    "    fig_india_1 = px.choropleth(tacyg, geojson=data1, locations='State', featureidkey= 'properties.ST_NM',  \n",
    "                                color= 'Transaction_amount', color_continuous_scale= 'Rainbow', \n",
    "                                range_color= (tacyg ['Transaction_amount'].min(), tacyg ['Transaction_amount'].max()), \n",
    "                                hover_name= 'State', title= f\"{year} TRANSACTION AMOUNT\",  fitbounds=\"locations\",\n",
    "                                height=600, width=600 )\n",
    "    \n",
    "    fig_india_1.update_geos(visible= False)\n",
    "    # st.plotly_chart(fig_india_1)\n",
    "    fig_india_1.show()\n",
    "    \n",
    "    fig_india_2 = px.choropleth(tacyg, geojson=data1, locations='State', featureidkey= 'properties.ST_NM',  \n",
    "                                color= 'Transaction_count', color_continuous_scale= 'Rainbow', \n",
    "                                range_color= (tacyg ['Transaction_count'].min(), tacyg ['Transaction_count'].max()), \n",
    "                                hover_name= 'State', title= f\"{year} TRANSACTION COUNT\",  fitbounds=\"locations\",\n",
    "                                height=600, width=600 )\n",
    "    \n",
    "    fig_india_2.update_geos(visible= False)\n",
    "    # st.plotly_chart(fig_india_2)\n",
    "    fig_india_2.show()\n",
    "\n",
    "    return tacy"
   ]
  },
  {
   "cell_type": "code",
   "execution_count": 4,
   "id": "7fa09c74",
   "metadata": {},
   "outputs": [],
   "source": [
    "#Transaction_Quarter_Based\n",
    "\n",
    "def Transaction_amount_count_Y_Q(df, quarter):\n",
    "    #(Boolean Series)\n",
    "    tacy = df[df['Quarter'] == quarter]\n",
    "    tacy.reset_index(drop = True, inplace= True)\n",
    "\n",
    "    tacyg = tacy.groupby('State')[['Transaction_count', 'Transaction_amount']].sum()\n",
    "    tacyg.reset_index(inplace=True)\n",
    "\n",
    "    fig_amount = px.bar(tacyg, x='State', y='Transaction_amount', title =f\"{tacy['Year'].min()} YEAR {quarter} QUARTER Transaction Amount\", \n",
    "                         color_discrete_sequence= px.colors.sequential.Aggrnyl, height=650, width=600)\n",
    "    fig_amount.show()\n",
    "\n",
    "    fig_count = px.bar(tacyg,x = 'State', y='Transaction_count', title =f\"{tacy['Year'].min()} YEAR {quarter} QUARTER Transaction Count\",\n",
    "                       color_discrete_sequence= px.colors.sequential.Aggrnyl, height=650, width=600)\n",
    "    fig_count.show()\n",
    "\n",
    "    url = \"https://gist.githubusercontent.com/jbrobst/56c13bbbf9d97d187fea01ca62ea5112/raw/e388c4cae20aa53cb5090210a42ebb9b765c0a36/india_states.geojson\"\n",
    "    response = requests.get(url)\n",
    "\n",
    "    data1 = json.loads(response.content)\n",
    "\n",
    "    states_name = []\n",
    "\n",
    "    for feature in data1[\"features\"]:\n",
    "        print(feature['properties'])\n",
    "        states_name.append(feature['properties']['ST_NM'])\n",
    "\n",
    "    states_name.sort()\n",
    "\n",
    "    fig_india_1 = px.choropleth(tacyg, geojson=data1, locations='State', featureidkey= 'properties.ST_NM',  \n",
    "                                color= 'Transaction_amount', color_continuous_scale= 'Rainbow', \n",
    "                                range_color= (tacyg ['Transaction_amount'].min(), tacyg ['Transaction_amount'].max()), \n",
    "                                hover_name= 'State', title= f\"{tacy['Year'].min()} YEAR {quarter} QUARTER TRANSACTION AMOUNT\",  fitbounds=\"locations\",\n",
    "                                height=600, width=600 )\n",
    "    \n",
    "    fig_india_1.update_geos(visible= False)\n",
    "    # st.plotly_chart(fig_india_1)\n",
    "    fig_india_1.show()\n",
    "    \n",
    "    fig_india_2 = px.choropleth(tacyg, geojson=data1, locations='State', featureidkey= 'properties.ST_NM',  \n",
    "                                color= 'Transaction_count', color_continuous_scale= 'Rainbow', \n",
    "                                range_color= (tacyg ['Transaction_count'].min(), tacyg ['Transaction_count'].max()), \n",
    "                                hover_name= 'State', title= f\"{tacy['Year'].min()} YEAR {quarter} QUARTER TRANSACTION COUNT\",  fitbounds=\"locations\",\n",
    "                                height=600, width=600 )\n",
    "    \n",
    "    fig_india_2.update_geos(visible= False)\n",
    "    # st.plotly_chart(fig_india_2)\n",
    "    fig_india_2.show()\n",
    "\n",
    "    return tacy\n"
   ]
  },
  {
   "cell_type": "code",
   "execution_count": 5,
   "id": "2282d767",
   "metadata": {},
   "outputs": [],
   "source": [
    "#Transaction_Type\n",
    "\n",
    "def Agg_trans_Transaction_type(df,state):\n",
    "\n",
    "    tacy = df[df['State'] == state]\n",
    "    tacy.reset_index(drop = True, inplace= True)\n",
    "\n",
    "    tacyg = tacy.groupby('Transaction_type')[['Transaction_count', 'Transaction_amount']].sum()\n",
    "    tacyg.reset_index(inplace=True)\n",
    "\n",
    "\n",
    "    fig_pie_1 = px.pie(data_frame= tacyg, names= \"Transaction_type\", values= \"Transaction_amount\", \n",
    "                   width= 600, title= f\"{state.upper()} TRANSATION_AMOUNT\", hole= 0.5)\n",
    "    fig_pie_1.show()\n",
    "\n",
    "    fig_pie_2 = px.pie(data_frame= tacyg, names= \"Transaction_type\", values= \"Transaction_count\", \n",
    "                   width= 600, title= f\"{state.upper()} TRANSATION_COUNT\", hole= 0.5)\n",
    "    fig_pie_2.show()"
   ]
  },
  {
   "cell_type": "code",
   "execution_count": 6,
   "id": "c5a6544c",
   "metadata": {},
   "outputs": [],
   "source": [
    "# Aggregated_User_analysis_1\n",
    "\n",
    "def Agg_User_plot_1(df, year):\n",
    "    aguy = df[df[\"Year\"] == year]\n",
    "    aguy.reset_index(drop = True, inplace= True)\n",
    "\n",
    "    aguyg = pd.DataFrame (aguy.groupby(\"Brand\")[\"Transaction_count\"].sum())\n",
    "    aguyg.reset_index(inplace= True)\n",
    "\n",
    "\n",
    "    fig_bar_1 = px.bar(aguyg, x= \"Brand\", y =\"Transaction_count\", title= f\"{year} BRAND and TRANSACTION_COUNT\",\n",
    "                    width=1000, color_discrete_sequence= px.colors.sequential.haline_r, hover_name= \"Brand\")\n",
    "    fig_bar_1.show()\n",
    "\n",
    "    return aguy"
   ]
  },
  {
   "cell_type": "code",
   "execution_count": 7,
   "id": "4dfef467",
   "metadata": {},
   "outputs": [],
   "source": [
    "#Aggre_User_Analysis_2\n",
    "\n",
    "def Agg_User_plot_2(df, quarter):\n",
    "\n",
    "    aguyq = df[df[\"Quarter\"] == quarter]\n",
    "    aguyq.reset_index(drop = True, inplace= True)\n",
    "\n",
    "    aguyqg = pd.DataFrame(aguyq.groupby(\"Brand\")[\"Transaction_count\"].sum())\n",
    "    aguyqg.reset_index(inplace=True)\n",
    "\n",
    "    fig_bar_1 = px.bar(aguyqg, x= \"Brand\", y =\"Transaction_count\", title= f\"{quarter} QUARTER BRANDS and TRANSACTION_COUNT\",\n",
    "                        width=1000, color_discrete_sequence= px.colors.sequential.haline_r, hover_name= \"Brand\")\n",
    "    fig_bar_1.show()\n",
    "\n",
    "    return aguyq"
   ]
  },
  {
   "cell_type": "code",
   "execution_count": 8,
   "id": "9a293633",
   "metadata": {},
   "outputs": [],
   "source": [
    "#Aggre_User_Analysis_3\n",
    "\n",
    "def Agg_User_plot_3 (df, state):\n",
    "    auyqs = df[df[\"State\"] == state]\n",
    "    auyqs.reset_index (drop = True, inplace= True)\n",
    "\n",
    "    fig_line_3 = px.line(auyqs, x = \"Brand\", y = \"Transaction_count\", hover_data= \"Percentage\",\n",
    "                        title= f\"{state.upper()} BRAND, TRANSACTION_COUNT, PERENTAGE\", width=1000, markers= 'd')\n",
    "\n",
    "    fig_line_3.show()"
   ]
  },
  {
   "cell_type": "code",
   "execution_count": 9,
   "id": "f6ab6ad2",
   "metadata": {},
   "outputs": [],
   "source": [
    "#Map_Insurance_District\n",
    "\n",
    "def Map_insur_District(df,state):\n",
    "\n",
    "    tacy = df[df['State'] == state]\n",
    "    tacy.reset_index(drop = True, inplace= True)\n",
    "\n",
    "    tacyg = tacy.groupby('District')[['Transaction_count', 'Transaction_amount']].sum()\n",
    "    tacyg.reset_index(inplace=True)\n",
    "\n",
    "    \n",
    "    fig_bar_1 = px.bar(tacyg, x= \"Transaction_amount\", y= \"District\", orientation= \"h\", height=600,\n",
    "                       title= f\"{state.upper()} DISTRICT AND TRANSACTION AMOUNT\", color_discrete_sequence= px.colors.sequential.Mint_r)\n",
    "    fig_bar_1.show()\n",
    "    \n",
    "\n",
    "    fig_bar_2 = px.bar(tacyg, x= \"Transaction_count\", y= \"District\", orientation= \"h\", height=600,\n",
    "                       title= f\"{state.upper()} DISTRICT AND TRANSACTION COUNT\", color_discrete_sequence= px.colors.sequential.Bluered_r)\n",
    "    fig_bar_2.show()\n"
   ]
  },
  {
   "cell_type": "code",
   "execution_count": 10,
   "id": "97e693d4",
   "metadata": {},
   "outputs": [],
   "source": [
    "#Map_User_plot_1\n",
    "\n",
    "def Map_User_plot_1(df, year):\n",
    "    muy = df[df[\"Year\"] == year]\n",
    "    muy.reset_index(drop = True, inplace= True)\n",
    "\n",
    "    muyg = muy.groupby(\"State\") [[\"RegisteredUsers\", \"AppOpens\"]].sum()\n",
    "    muyg.reset_index(inplace=True)\n",
    "\n",
    "\n",
    "    fig_line_1 = px.line(muyg, x=\"State\", y=[\"RegisteredUsers\", \"AppOpens\"], \n",
    "                        color_discrete_map={\"RegisteredUsers\": \"#14129E\", \"AppOpens\":\"#ff7f0e\"},\n",
    "                        title=f\"{year} REGISTERED USERS (vs) APP OPENS\", width=1000, height=800, markers=True) \n",
    "    fig_line_1.show()\n",
    "\n",
    "    return muy"
   ]
  },
  {
   "cell_type": "code",
   "execution_count": 11,
   "id": "80e06206",
   "metadata": {},
   "outputs": [],
   "source": [
    "#Map_User_plot_2\n",
    "\n",
    "def Map_User_plot_2(df, quarter):\n",
    "    muyq = df[df[\"Quarter\"] == quarter]\n",
    "    muyq.reset_index(drop = True, inplace= True)\n",
    "\n",
    "    muyqg = muyq.groupby(\"State\") [[\"RegisteredUsers\", \"AppOpens\"]].sum()\n",
    "    muyqg.reset_index(inplace=True)\n",
    "\n",
    "\n",
    "    fig_line_1 = px.line(muyqg, x=\"State\", y=[\"RegisteredUsers\", \"AppOpens\"], \n",
    "                        color_discrete_map={\"RegisteredUsers\": \"#12229E\", \"AppOpens\":\"#ff7f0e\"},\n",
    "                        title=f\"{df['Year'].min()} YEAR {quarter} QUARTER REGISTERED USERS (vs) APP OPENS\", width=1000, height=800, markers=True) \n",
    "    fig_line_1.show()\n",
    "\n",
    "    return muyq"
   ]
  },
  {
   "cell_type": "code",
   "execution_count": 12,
   "id": "da76d7f1",
   "metadata": {},
   "outputs": [],
   "source": [
    "#Map_user_plot_3\n",
    "\n",
    "def map_user_plot_3(df, state):\n",
    "\n",
    "    muyqs = df[df[\"State\"] == state]\n",
    "    muyqs.reset_index(drop = True, inplace= True)\n",
    "\n",
    "    fig_map_user_bar_1 = px.bar(muyqs, x = \"RegisteredUsers\", y = \"District\", orientation=\"h\", \n",
    "                                title= \"REGISTERED USERS\", height= 800, color_discrete_sequence= px.colors.sequential.Rainbow_r)\n",
    "\n",
    "    fig_map_user_bar_1.show()\n",
    "\n",
    "    fig_map_user_bar_2 = px.bar(muyqs, x = \"AppOpens\", y = \"District\", orientation=\"h\", \n",
    "                                title= \"APPOPENS\", height= 800, color_discrete_sequence= px.colors.sequential.Rainbow)\n",
    "\n",
    "    fig_map_user_bar_2.show()"
   ]
  },
  {
   "cell_type": "code",
   "execution_count": 13,
   "id": "5aecdc7b",
   "metadata": {},
   "outputs": [],
   "source": [
    "# Top_Insurance_plot_1\n",
    "\n",
    "def Top_insurance_plot_1(df, state):\n",
    "    \n",
    "    tiy = df[df[\"State\"] == state]\n",
    "    tiy.reset_index(drop = True, inplace= True)\n",
    "\n",
    "    fig_top_insur_bar_1 = px.bar(tiy, x = \"Quarter\", y = \"Transaction_amount\", hover_data=\"Pincode\", #orientation=\"h\",\n",
    "                                    title= \"TRANSACTION AMOUNT\", height= 800, color_discrete_sequence= px.colors.sequential.Darkmint_r)\n",
    "\n",
    "    fig_top_insur_bar_1.show()\n",
    "\n",
    "    fig_top_insur_bar_2 = px.bar(tiy, x = \"Quarter\", y = \"Transaction_amount\", hover_data=\"Pincode\", #orientation=\"h\",\n",
    "                                    title= \"TRANSACTION COUNT\", height= 800, color_discrete_sequence= px.colors.sequential.Agsunset_r)\n",
    "\n",
    "    fig_top_insur_bar_2.show()"
   ]
  },
  {
   "cell_type": "code",
   "execution_count": null,
   "id": "b3f54b2c",
   "metadata": {},
   "outputs": [],
   "source": [
    "#Top_User_plot_1\n",
    "\n",
    "def Top_User_plot_1(df, year):\n",
    "    tuy = df[df[\"Year\"] == year]\n",
    "    tuy.reset_index(drop = True, inplace= True)\n",
    "\n",
    "    tuyg = pd.DataFrame (tuy.groupby([\"State\", \"Quarter\"])[\"RegisteredUsers\"].sum())\n",
    "    tuyg.reset_index(inplace= True)\n",
    "\n",
    "    fig_top_plot_1 = px.bar(tuyg, x= \"State\", y= \"RegisteredUsers\", color= \"Quarter\", width=1000, height=800, \n",
    "                            color_discrete_sequence= px.colors.sequential.Burgyl, hover_name= \"State\",\n",
    "                            title= f\"{year} REGISTERED USER\")\n",
    "    fig_top_plot_1.show()\n",
    "\n",
    "    return tuy"
   ]
  },
  {
   "cell_type": "code",
   "execution_count": 47,
   "id": "8af09d7a",
   "metadata": {},
   "outputs": [],
   "source": [
    "#Top_User_plot_2\n",
    "\n",
    "def Top_User_plot_2(df, State):\n",
    "\n",
    "    tuys = df[df [\"State\"]== State]\n",
    "    tuys.reset_index(drop= True, inplace= True)\n",
    "\n",
    "    fig_top_plot_2 = px.bar(tuys, x= \"Quarter\", y= \"RegisteredUsers\", hover_data= \"Pincode\",  width=1000, height=800, \n",
    "                                color_continuous_scale = px.colors.sequential.Magenta_r, \n",
    "                                title= \"REGISTERED USER AND PINCODE QUARTER DATA\")\n",
    "    fig_top_plot_2.show()\n",
    "\n",
    "# return tuy"
   ]
  },
  {
   "cell_type": "markdown",
   "id": "261a5abc",
   "metadata": {},
   "source": [
    "## Aggregated_Insurance"
   ]
  },
  {
   "cell_type": "code",
   "execution_count": null,
   "id": "2c714546",
   "metadata": {},
   "outputs": [],
   "source": [
    "tac_Y = Transaction_amount_count_Y(Agg_insurance, 2018)"
   ]
  },
  {
   "cell_type": "code",
   "execution_count": null,
   "id": "91cbc016",
   "metadata": {},
   "outputs": [],
   "source": [
    "Transaction_amount_count_Y_Q(tac_Y, 2)"
   ]
  },
  {
   "cell_type": "markdown",
   "id": "21b4f1e2",
   "metadata": {},
   "source": [
    "## Aggregated_Transaction"
   ]
  },
  {
   "cell_type": "code",
   "execution_count": null,
   "id": "7fc9f2e3",
   "metadata": {},
   "outputs": [],
   "source": [
    "Agg_trans_tac_Y = Transaction_amount_count_Y(Agg_Transaction, 2022)"
   ]
  },
  {
   "cell_type": "code",
   "execution_count": null,
   "id": "aa248672",
   "metadata": {},
   "outputs": [],
   "source": [
    "Agg_trans_Transaction_type(Agg_trans_tac_Y,'Tamil Nadu')"
   ]
  },
  {
   "cell_type": "code",
   "execution_count": null,
   "id": "1c1e30ab",
   "metadata": {},
   "outputs": [],
   "source": [
    "Agg_trans_tac_Y_Q = Transaction_amount_count_Y_Q(Agg_trans_tac_Y, 2)"
   ]
  },
  {
   "cell_type": "code",
   "execution_count": null,
   "id": "acc4f5c9",
   "metadata": {},
   "outputs": [],
   "source": [
    "Agg_trans_Transaction_type(Agg_trans_tac_Y_Q,'Tamil Nadu')"
   ]
  },
  {
   "cell_type": "code",
   "execution_count": 19,
   "id": "5a0a17c4",
   "metadata": {},
   "outputs": [
    {
     "data": {
      "text/plain": [
       "array([], dtype=object)"
      ]
     },
     "execution_count": 19,
     "metadata": {},
     "output_type": "execute_result"
    }
   ],
   "source": [
    "Agg_trans_tac_Y_Q[\"State\"].unique()"
   ]
  },
  {
   "cell_type": "markdown",
   "id": "a7211753",
   "metadata": {},
   "source": [
    "## Aggregated_USER"
   ]
  },
  {
   "cell_type": "code",
   "execution_count": null,
   "id": "c657a262",
   "metadata": {},
   "outputs": [],
   "source": [
    "Agg_User_Y = Agg_User_plot_1(Agg_User, 2018)"
   ]
  },
  {
   "cell_type": "code",
   "execution_count": null,
   "id": "004ed06b",
   "metadata": {},
   "outputs": [],
   "source": [
    "Agg_User_Y_Q = Agg_User_plot_2(Agg_User_Y, 3)"
   ]
  },
  {
   "cell_type": "code",
   "execution_count": null,
   "id": "9f3a2f7f",
   "metadata": {},
   "outputs": [],
   "source": [
    "Agg_User_plot_3(Agg_User_Y_Q, 'Andaman & Nicobar')"
   ]
  },
  {
   "cell_type": "markdown",
   "id": "078a8b87",
   "metadata": {},
   "source": [
    "## Map_Insurance"
   ]
  },
  {
   "cell_type": "code",
   "execution_count": null,
   "id": "933d5c6a",
   "metadata": {},
   "outputs": [],
   "source": [
    "Map_insur_tac_Y = Transaction_amount_count_Y(Map_insurance, 2022)"
   ]
  },
  {
   "cell_type": "code",
   "execution_count": null,
   "id": "a282d851",
   "metadata": {},
   "outputs": [],
   "source": [
    "Map_insur_District(Map_insur_tac_Y, 'Tamil Nadu')"
   ]
  },
  {
   "cell_type": "code",
   "execution_count": null,
   "id": "dda6e5b0",
   "metadata": {},
   "outputs": [],
   "source": [
    "Map_insur_tac_Y_Q = Transaction_amount_count_Y_Q(Map_insur_tac_Y, 2)"
   ]
  },
  {
   "cell_type": "code",
   "execution_count": null,
   "id": "6ad74f0b",
   "metadata": {},
   "outputs": [],
   "source": [
    "Map_insur_District(Map_insur_tac_Y_Q, 'Tamil Nadu')"
   ]
  },
  {
   "cell_type": "markdown",
   "id": "3a6fb0d6",
   "metadata": {},
   "source": [
    "## MAP_Transaction"
   ]
  },
  {
   "cell_type": "code",
   "execution_count": null,
   "id": "78e912ca",
   "metadata": {},
   "outputs": [],
   "source": [
    "Map_trans_tac_Y = Transaction_amount_count_Y(Map_Transaction, 2023)"
   ]
  },
  {
   "cell_type": "code",
   "execution_count": null,
   "id": "738d2500",
   "metadata": {},
   "outputs": [],
   "source": [
    "Map_insur_District(Map_trans_tac_Y, 'Tamil Nadu')"
   ]
  },
  {
   "cell_type": "code",
   "execution_count": null,
   "id": "c7d06700",
   "metadata": {},
   "outputs": [],
   "source": [
    "Map_trans_tac_Y_Q = Transaction_amount_count_Y_Q(Map_trans_tac_Y, 2)"
   ]
  },
  {
   "cell_type": "code",
   "execution_count": null,
   "id": "70f5d3d4",
   "metadata": {},
   "outputs": [],
   "source": [
    "Map_insur_District(Map_trans_tac_Y_Q, 'Tamil Nadu')"
   ]
  },
  {
   "cell_type": "markdown",
   "id": "c37f45bd",
   "metadata": {},
   "source": [
    "## MAP_User"
   ]
  },
  {
   "cell_type": "code",
   "execution_count": null,
   "id": "ddd93617",
   "metadata": {},
   "outputs": [],
   "source": [
    "Map_User_Y = Map_User_plot_1(Map_User, 2020)"
   ]
  },
  {
   "cell_type": "code",
   "execution_count": null,
   "id": "c7613264",
   "metadata": {},
   "outputs": [],
   "source": [
    "Map_User_Y_Q = Map_User_plot_2(Map_User_Y, 2)"
   ]
  },
  {
   "cell_type": "code",
   "execution_count": null,
   "id": "ec630a5b",
   "metadata": {},
   "outputs": [],
   "source": [
    "map_user_plot_3(Map_User_Y_Q, \"Tamil Nadu\")"
   ]
  },
  {
   "cell_type": "markdown",
   "id": "cee28eef",
   "metadata": {},
   "source": [
    "## Top_Insurance"
   ]
  },
  {
   "cell_type": "code",
   "execution_count": null,
   "id": "b3e104a8",
   "metadata": {},
   "outputs": [],
   "source": [
    "Top_insur_tac_Y = Transaction_amount_count_Y(Top_insurance, 2020)"
   ]
  },
  {
   "cell_type": "code",
   "execution_count": null,
   "id": "147861b5",
   "metadata": {},
   "outputs": [],
   "source": [
    "Top_insurance_plot_1(Top_insur_tac_Y, \"West Bengal\")"
   ]
  },
  {
   "cell_type": "code",
   "execution_count": null,
   "id": "5c4db8a5",
   "metadata": {},
   "outputs": [],
   "source": [
    "Top_insur_tac_Y_Q = Transaction_amount_count_Y_Q(Top_insur_tac_Y, 2)"
   ]
  },
  {
   "cell_type": "markdown",
   "id": "35936966",
   "metadata": {},
   "source": [
    "## Top_Transaction"
   ]
  },
  {
   "cell_type": "code",
   "execution_count": null,
   "id": "2c9284f4",
   "metadata": {},
   "outputs": [],
   "source": [
    "Top_trans_tac_Y = Transaction_amount_count_Y(Top_Transaction, 2020)"
   ]
  },
  {
   "cell_type": "code",
   "execution_count": null,
   "id": "f3dc951b",
   "metadata": {},
   "outputs": [],
   "source": [
    "Top_insurance_plot_1(Top_trans_tac_Y, \"West Bengal\")"
   ]
  },
  {
   "cell_type": "code",
   "execution_count": null,
   "id": "c2a78a2b",
   "metadata": {},
   "outputs": [],
   "source": [
    "Top_trans_tac_Y_Q = Transaction_amount_count_Y_Q(Top_trans_tac_Y, 2)"
   ]
  },
  {
   "cell_type": "markdown",
   "id": "77258d36",
   "metadata": {},
   "source": [
    "## Top User"
   ]
  },
  {
   "cell_type": "code",
   "execution_count": null,
   "id": "92356561",
   "metadata": {},
   "outputs": [],
   "source": [
    "Top_User_Y = Top_User_plot_1(Top_User, 2021)"
   ]
  },
  {
   "cell_type": "code",
   "execution_count": null,
   "id": "77840d99",
   "metadata": {},
   "outputs": [],
   "source": [
    "Top_User_plot_2(Top_User_Y, \"Tamil Nadu\")"
   ]
  },
  {
   "cell_type": "code",
   "execution_count": 52,
   "id": "488933e0",
   "metadata": {},
   "outputs": [
    {
     "data": {
      "text/html": [
       "<div>\n",
       "<style scoped>\n",
       "    .dataframe tbody tr th:only-of-type {\n",
       "        vertical-align: middle;\n",
       "    }\n",
       "\n",
       "    .dataframe tbody tr th {\n",
       "        vertical-align: top;\n",
       "    }\n",
       "\n",
       "    .dataframe thead th {\n",
       "        text-align: right;\n",
       "    }\n",
       "</style>\n",
       "<table border=\"1\" class=\"dataframe\">\n",
       "  <thead>\n",
       "    <tr style=\"text-align: right;\">\n",
       "      <th></th>\n",
       "      <th>State</th>\n",
       "      <th>Year</th>\n",
       "      <th>Quarter</th>\n",
       "      <th>Pincode</th>\n",
       "      <th>RegisteredUsers</th>\n",
       "    </tr>\n",
       "  </thead>\n",
       "  <tbody>\n",
       "    <tr>\n",
       "      <th>0</th>\n",
       "      <td>Andaman &amp; Nicobar</td>\n",
       "      <td>2018</td>\n",
       "      <td>1</td>\n",
       "      <td>744103</td>\n",
       "      <td>1608</td>\n",
       "    </tr>\n",
       "    <tr>\n",
       "      <th>1</th>\n",
       "      <td>Andaman &amp; Nicobar</td>\n",
       "      <td>2018</td>\n",
       "      <td>1</td>\n",
       "      <td>744101</td>\n",
       "      <td>1108</td>\n",
       "    </tr>\n",
       "    <tr>\n",
       "      <th>2</th>\n",
       "      <td>Andaman &amp; Nicobar</td>\n",
       "      <td>2018</td>\n",
       "      <td>1</td>\n",
       "      <td>744105</td>\n",
       "      <td>1075</td>\n",
       "    </tr>\n",
       "    <tr>\n",
       "      <th>3</th>\n",
       "      <td>Andaman &amp; Nicobar</td>\n",
       "      <td>2018</td>\n",
       "      <td>1</td>\n",
       "      <td>744102</td>\n",
       "      <td>1006</td>\n",
       "    </tr>\n",
       "    <tr>\n",
       "      <th>4</th>\n",
       "      <td>Andaman &amp; Nicobar</td>\n",
       "      <td>2018</td>\n",
       "      <td>1</td>\n",
       "      <td>744104</td>\n",
       "      <td>272</td>\n",
       "    </tr>\n",
       "    <tr>\n",
       "      <th>...</th>\n",
       "      <td>...</td>\n",
       "      <td>...</td>\n",
       "      <td>...</td>\n",
       "      <td>...</td>\n",
       "      <td>...</td>\n",
       "    </tr>\n",
       "    <tr>\n",
       "      <th>9995</th>\n",
       "      <td>West Bengal</td>\n",
       "      <td>2024</td>\n",
       "      <td>4</td>\n",
       "      <td>733134</td>\n",
       "      <td>169596</td>\n",
       "    </tr>\n",
       "    <tr>\n",
       "      <th>9996</th>\n",
       "      <td>West Bengal</td>\n",
       "      <td>2024</td>\n",
       "      <td>4</td>\n",
       "      <td>700059</td>\n",
       "      <td>169448</td>\n",
       "    </tr>\n",
       "    <tr>\n",
       "      <th>9997</th>\n",
       "      <td>West Bengal</td>\n",
       "      <td>2024</td>\n",
       "      <td>4</td>\n",
       "      <td>711302</td>\n",
       "      <td>146034</td>\n",
       "    </tr>\n",
       "    <tr>\n",
       "      <th>9998</th>\n",
       "      <td>West Bengal</td>\n",
       "      <td>2024</td>\n",
       "      <td>4</td>\n",
       "      <td>700150</td>\n",
       "      <td>142151</td>\n",
       "    </tr>\n",
       "    <tr>\n",
       "      <th>9999</th>\n",
       "      <td>West Bengal</td>\n",
       "      <td>2024</td>\n",
       "      <td>4</td>\n",
       "      <td>711106</td>\n",
       "      <td>142077</td>\n",
       "    </tr>\n",
       "  </tbody>\n",
       "</table>\n",
       "<p>10000 rows × 5 columns</p>\n",
       "</div>"
      ],
      "text/plain": [
       "                  State  Year  Quarter  Pincode  RegisteredUsers\n",
       "0     Andaman & Nicobar  2018        1   744103             1608\n",
       "1     Andaman & Nicobar  2018        1   744101             1108\n",
       "2     Andaman & Nicobar  2018        1   744105             1075\n",
       "3     Andaman & Nicobar  2018        1   744102             1006\n",
       "4     Andaman & Nicobar  2018        1   744104              272\n",
       "...                 ...   ...      ...      ...              ...\n",
       "9995        West Bengal  2024        4   733134           169596\n",
       "9996        West Bengal  2024        4   700059           169448\n",
       "9997        West Bengal  2024        4   711302           146034\n",
       "9998        West Bengal  2024        4   700150           142151\n",
       "9999        West Bengal  2024        4   711106           142077\n",
       "\n",
       "[10000 rows x 5 columns]"
      ]
     },
     "execution_count": 52,
     "metadata": {},
     "output_type": "execute_result"
    }
   ],
   "source": [
    "Top_User"
   ]
  },
  {
   "cell_type": "code",
   "execution_count": null,
   "id": "b576eed6",
   "metadata": {},
   "outputs": [],
   "source": []
  }
 ],
 "metadata": {
  "kernelspec": {
   "display_name": ".venv",
   "language": "python",
   "name": "python3"
  },
  "language_info": {
   "codemirror_mode": {
    "name": "ipython",
    "version": 3
   },
   "file_extension": ".py",
   "mimetype": "text/x-python",
   "name": "python",
   "nbconvert_exporter": "python",
   "pygments_lexer": "ipython3",
   "version": "3.13.2"
  }
 },
 "nbformat": 4,
 "nbformat_minor": 5
}
