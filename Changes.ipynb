{
 "cells": [
  {
   "cell_type": "code",
   "execution_count": 4,
   "id": "d9ed6821",
   "metadata": {},
   "outputs": [
    {
     "name": "stdout",
     "output_type": "stream",
     "text": [
      "                          State  Year  Quarter Pincode  Transaction_count  \\\n",
      "0     andaman-&-nicobar-islands  2020        2  744301                  3   \n",
      "1     andaman-&-nicobar-islands  2020        2  744104                  2   \n",
      "2     andaman-&-nicobar-islands  2020        2  744101                  1   \n",
      "3     andaman-&-nicobar-islands  2020        3  744112                  9   \n",
      "4     andaman-&-nicobar-islands  2020        3  744105                  7   \n",
      "...                         ...   ...      ...     ...                ...   \n",
      "6663                west-bengal  2024        4  711101                713   \n",
      "6664                west-bengal  2024        4  700091                642   \n",
      "6665                west-bengal  2024        4  700150                627   \n",
      "6666                west-bengal  2024        4  700039                619   \n",
      "6667                west-bengal  2024        4  700156                574   \n",
      "\n",
      "      Transaction_amount  \n",
      "0                  565.0  \n",
      "1                  513.0  \n",
      "2                  282.0  \n",
      "3                 3432.0  \n",
      "4                 3948.0  \n",
      "...                  ...  \n",
      "6663            750354.0  \n",
      "6664            969634.0  \n",
      "6665            761501.0  \n",
      "6666            787836.0  \n",
      "6667            888613.0  \n",
      "\n",
      "[6668 rows x 6 columns]\n"
     ]
    }
   ],
   "source": [
    "import os\n",
    "import json\n",
    "import pandas as pd\n",
    "\n",
    "path7 = \"D:/SRMK/Guvi/PhonePe-Transaction/pulse/data/top/insurance/country/india/state/\"\n",
    "top_insurance_list = os.listdir(path7)\n",
    "\n",
    "column7 = {'State': [], 'Year': [], 'Quarter': [], 'Pincode': [], 'Transaction_count' : [], 'Transaction_amount' : []}\n",
    "\n",
    "for state in top_insurance_list:\n",
    "    cur_state = path7 + state + '/'\n",
    "    top_year_list = os.listdir(cur_state)\n",
    "\n",
    "    for year in top_year_list:\n",
    "        cur_year = cur_state + year + '/'\n",
    "        top_file_list = os.listdir(cur_year)\n",
    "\n",
    "        for file in top_file_list:\n",
    "            cur_file = cur_year + file\n",
    "            data = open(cur_file,'r')\n",
    "\n",
    "            G = json.load(data)\n",
    "\n",
    "            for i in G['data']['pincodes']:\n",
    "                entityname = i['entityName']\n",
    "                count = i['metric']['count']\n",
    "                amount = i['metric']['amount']\n",
    "                column7['Pincode'].append(entityname)\n",
    "                column7['Transaction_count'].append(count)\n",
    "                column7['Transaction_amount'].append(amount)\n",
    "                column7['State'].append(state)\n",
    "                column7['Year'].append(year)\n",
    "                column7['Quarter'].append(int(file.strip('.json')))\n",
    "\n",
    "#Succesfully created a dataframe\n",
    "Top_transaction = pd.DataFrame(column7)\n",
    "\n",
    "print(Top_transaction)\n",
    "\n",
    "Top_transaction['State'] = Top_transaction['State'].str.replace('andaman-&-nicobar-islands', 'Andaman & Nicobar')\n",
    "Top_transaction['State'] = Top_transaction['State'].str.replace('-', ' ')\n",
    "Top_transaction['State'] = Top_transaction['State'].str.title()\n",
    "Top_transaction['State'] = Top_transaction['State'].str.replace('dadra-&-nagar-haveli-&-daman-&-diu', 'dadra and nagar haveli and daman and diu')\n",
    "\n"
   ]
  },
  {
   "cell_type": "code",
   "execution_count": 6,
   "id": "4886fecc",
   "metadata": {},
   "outputs": [
    {
     "data": {
      "text/plain": [
       "Index(['State', 'Year', 'Quarter', 'Pincode', 'Transaction_count',\n",
       "       'Transaction_amount'],\n",
       "      dtype='object')"
      ]
     },
     "execution_count": 6,
     "metadata": {},
     "output_type": "execute_result"
    }
   ],
   "source": [
    "Top_transaction.columns"
   ]
  }
 ],
 "metadata": {
  "kernelspec": {
   "display_name": ".venv",
   "language": "python",
   "name": "python3"
  },
  "language_info": {
   "codemirror_mode": {
    "name": "ipython",
    "version": 3
   },
   "file_extension": ".py",
   "mimetype": "text/x-python",
   "name": "python",
   "nbconvert_exporter": "python",
   "pygments_lexer": "ipython3",
   "version": "3.13.2"
  }
 },
 "nbformat": 4,
 "nbformat_minor": 5
}
